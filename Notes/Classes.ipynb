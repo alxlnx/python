{
 "cells": [
  {
   "cell_type": "markdown",
   "metadata": {},
   "source": [
    "# 05.09.2023"
   ]
  },
  {
   "cell_type": "markdown",
   "metadata": {},
   "source": [
    "1. Python uses dynamic typing system which enable you to do smth like:    \n",
    "` a = 2; a = 'kekw' `   \n",
    "This means that variables are actually references which point to data.    \n",
    "From StackOverflow: Python does not have variables, like other languages where variables have a type and a value; it has names pointing to objects, which know their type. Names themselves just don't have a \"type\" property.\n",
    "2. r-string (raw strings) are used mostly for Windows pathnames and regular expressions since they instruct python to treat \\\\ as a regular char.   \n",
    "`r'C:\\Windows\\system32\\'`"
   ]
  },
  {
   "cell_type": "code",
   "execution_count": null,
   "metadata": {},
   "outputs": [],
   "source": [
    "# * - turns an array into a series of vars passed to a func\n",
    "array = ['Hi', 'How', 6, '2323', [1,2,3] ]\n",
    "print(array)\n",
    "print(*array, sep='--')\n",
    "\n",
    "# Find out the index of an element.\n",
    "print( array.index(6) )\n",
    "#\n",
    "text = 'Hello.'\n",
    "print('Bery goog.') if text.endswith('.') else print('.bad')"
   ]
  },
  {
   "cell_type": "markdown",
   "metadata": {},
   "source": [
    "- set =  unordered_set (implemented using hash funcs), cannot be indexed, no duplicates, immutable items (tho you can add and remove them)\n",
    "- dict = unordered_map \n",
    "```python\n",
    "## checking if a num is in a dict\n",
    "if number not in num_entries:\n",
    "\n",
    "## dict c++ behavior (init to default value for that type if key is not present)\n",
    "dict.setdefault(key, 0) ## return the value of key or init it with default value and then return it if the key is not present\n",
    "num_entires[num] = num_entires.setdefault(key, 0) + 1 # Increase and init.\n",
    "```"
   ]
  },
  {
   "cell_type": "markdown",
   "metadata": {},
   "source": [
    "Reading a sequence of numbers\n",
    "```python\n",
    "input = input() # LOOK AT THE CELL ABOVE.\n",
    "input_list = input.split(' ')\n",
    "nums = [ int(char) for char in input_list ]\n",
    "print(nums)\n",
    "\n",
    "# How you should actually write this code:\n",
    "nums = [ int(ch) for ch in input.split() ]\n",
    "```"
   ]
  },
  {
   "cell_type": "markdown",
   "metadata": {},
   "source": [
    "You can use lambdas to shape what functions see but apply that to original data.\n",
    "```python\n",
    "sorted([3, 1, 2], key=lambda x: -x) # sorted sees [-3, -1, -2] -> [-3, -2, -1].\n",
    "\n",
    "# for sorting tuples: \n",
    "sorted(..., lambda x: (-x[0], x[1]) ) # -> sort tuples by descending first field but ascending second.\n",
    "# useful if you're sorting (num, string) pairs: nums is descending, string alphabetically. \n",
    "# Regular reversed=True would invert BOTH.\n",
    "```"
   ]
  },
  {
   "cell_type": "markdown",
   "metadata": {},
   "source": [
    "# 12.09.2023"
   ]
  },
  {
   "cell_type": "markdown",
   "metadata": {},
   "source": [
    "There are mutable and immutable data types in python.  \n",
    "Mutable: list dict   \n",
    "Immutable: int, string, bool, tuple, float     \n",
    "`a = [1,2,x]`    \n",
    "Lists are references to a mutable array of references.    \n",
    "Tuples are references to an immutable array of references.    \n",
    "This distinction is needed, for instance, for definining what can be a dictionary key. \n",
    "**Keys must be immutable and can be hashed.**\n",
    "\n",
    "---\n",
    "\n",
    "Data type converiosn:\n",
    "`num = int(s, 16); s = str(num)` 16 here is the base.\n",
    "\n",
    "---\n",
    "\n",
    "Useful string methods: `'abba'.replace('a', '')` yields 'bb'. Also strip()."
   ]
  },
  {
   "cell_type": "code",
   "execution_count": null,
   "metadata": {},
   "outputs": [],
   "source": [
    "print(repr('\\n hello world \\n')) # Return a canonical representation of an object.\n",
    "print(repr('\\n hello world \\n'.strip('\\n')))"
   ]
  },
  {
   "cell_type": "markdown",
   "metadata": {},
   "source": [
    "Exception handling:\n",
    "\n",
    "```python\n",
    "try:\n",
    "    int(s, 16)\n",
    "except:\n",
    "    print('Oops. Processing...')\n",
    "    delay(10e100) # hehe\n",
    "finally:\n",
    "    shut_down_nuclear_launch() # Regardless of if something was caught or not. Neat stuff NOT present in cpp.\n",
    "    # Actually this is ESSENTIAL for closing a file, closing a stream, etc.\n",
    "    # Now imagine this was a cron-command (a script working in background at all times). Not freeing a resource (not just memory! which is handled by the interpeter) will be awful here.\n",
    "\n",
    "```"
   ]
  },
  {
   "cell_type": "markdown",
   "metadata": {},
   "source": [
    "__Rule of thumb: always free acquired resources (e.g. close open files) in the 'finally' block__."
   ]
  },
  {
   "cell_type": "markdown",
   "metadata": {},
   "source": [
    "Python actually uses exceptions all the time. For example,    \n",
    "when iterating over a list in a for loop Python throws an exception at the end which is then handled by the loop."
   ]
  },
  {
   "cell_type": "markdown",
   "metadata": {},
   "source": [
    "See python notes for more.\n",
    "Function argument types:\n",
    "1. Positional\n",
    "2. Key-value\n",
    "\n",
    "Take note of '_' being used here as a placeholder for a coherent name.     \n",
    "A very good note on types of args and return values (uses the 'typing' module): [Link](https://stackoverflow.com/questions/2489669/how-do-python-functions-handle-the-types-of-parameters-that-you-pass-in#21384492)"
   ]
  },
  {
   "cell_type": "code",
   "execution_count": null,
   "metadata": {},
   "outputs": [],
   "source": [
    "def my_func(arg1, arg2, arg3=None):\n",
    "    _ = 10e3\n",
    "    print(f'Here are your args: {arg1}, {arg2}, {arg3}', _)\n",
    "\n",
    "my_func(arg1='1', arg3='2', arg2=\"HH\")"
   ]
  },
  {
   "cell_type": "markdown",
   "metadata": {},
   "source": [
    "Reading data from a file (basic) also using zip():\n",
    "Focus on comments with this one."
   ]
  },
  {
   "cell_type": "code",
   "execution_count": null,
   "metadata": {},
   "outputs": [],
   "source": [
    "fname1, fname2 = 'data.csv', 'data.txt' # This makes a tuple. It is devided on the left and constructed on the right.\n",
    "\n",
    "# Open returns a file descriptor.\n",
    "# first_fd = open(fname1, 'r') # DO NOT EVEN. That was solved by the RAII idiom in C++. Here it is easier to 就\n",
    "with open(fname1, 'r') as first_fd:\n",
    "    # print(first_fd.readlines())\n",
    "    nums = [s.split(' ') for s in [s.replace(',', '') for s in [s.rstrip('\\n') for s in first_fd.readlines()]]]\n",
    "    print(*nums) # split one num arg into two args\n",
    "    result = [ list(line) for line in zip(*nums) ] # so here it zips [1, 2, 3, 4, 5] AND [10, 11, 44, 22, 44] like usual)\n",
    "    print( list(result) ) # if you '*result' print says 'expected one argument, got 5'\n",
    "    # Zip can also works with any number of same-length input lists. (makes tuples of size 3, 4, 5...)\n",
    "\n",
    "# first_fd.close()"
   ]
  },
  {
   "cell_type": "markdown",
   "metadata": {},
   "source": [
    "Some cool stuff:     \n",
    "` sorted(words, key = lambda i: len(i)) -----> sorted(words, key=len) # BOOM `"
   ]
  },
  {
   "cell_type": "markdown",
   "metadata": {},
   "source": [
    "# 19.09.23 (Classes)"
   ]
  },
  {
   "cell_type": "code",
   "execution_count": null,
   "metadata": {},
   "outputs": [],
   "source": [
    "# In C++ this->field = filed_arg wouldn't work for constant fields.\n",
    "# Because fields are initialized before assignment through this.\n",
    "# For const field only initialized_lists would work because it initializes fields directly.\n",
    "\n",
    "# __name__ are magic methods\n",
    "class Car:\n",
    "    #def __new__(cls):  # Accepts a class and makes an ins1 of this class.\n",
    "        # __new__ is needed when we inherit a class from an immutable type (e.g. a tuple)\n",
    "        # there are no constant fields in python, there are static however.\n",
    "        # The second type of constructor\n",
    "        #pass\n",
    "    # Init works with an intance of a class made by __new__ so if you redefine __new__ like this\n",
    "    # you get an error on car = Car('Volvo', 'S60', 1234) saying __new__ takes 1 arg but 4 were given\n",
    "    \n",
    "    def __init__(self, manfucturer, name, vin): # Accepts an ins1 of a class and works with it.\n",
    "        # Turns an ins1 into an initialized ins1.\n",
    "        # Classic constructor\n",
    "        self._manufacturer = manfucturer\n",
    "        self.name = name\n",
    "        self.vin = vin\n",
    "\n",
    "    def __del__(self):\n",
    "        # This is called when the garbage collector deletes an instance of this class.\n",
    "        print('In __del__(self)')\n",
    "\n",
    "    def __str__(self):\n",
    "        return f'This car is {self.name}, made by {self._manufacturer.upper()}'\n",
    "    \n",
    "    def __int__(self):\n",
    "        return self.vin\n",
    "    \n",
    "    def __lt__(self, other): # This also defines > as 'not <'\n",
    "        return self.vin > other.vin\n",
    "    \n",
    "    def __mul__(other): # 5 * other\n",
    "        pass        \n",
    "    def __rmul__(): # other * 5\n",
    "        pass\n",
    "    def __imul__(): # *=\n",
    "        pass\n",
    "    def __div__(): # /\n",
    "        pass\n",
    "\n",
    "car1 = Car('Volvo', 'S60', 1234)\n",
    "print(f\"Car's name is {car1.name}\")\n",
    "print()\n",
    "print(car1)\n",
    "car2 = Car('Vaz', '2101', 50)\n",
    "print('Younger') if car1 > car2 else print('Older')"
   ]
  },
  {
   "cell_type": "code",
   "execution_count": null,
   "metadata": {},
   "outputs": [],
   "source": [
    "class Car:    \n",
    "    def __init__(self, manfucturer, name, vin): \n",
    "        self._manufacturer = manfucturer # _name is a convention for writing fields which are not meant to be explicitly changed\n",
    "        # i.e. Car._manufacturer = 10 is forbidden.\n",
    "        self.name = name\n",
    "        self.vin = vin\n",
    "\n",
    "    def __del__(self):\n",
    "        print('In __del__(self)')\n",
    "\n",
    "    def __str__(self):\n",
    "        return f'This car is {self.name}, made by {self._manufacturer.upper()}'\n",
    "    \n",
    "    def drive(self, distance):\n",
    "        print(f'Driving for {distance}km')\n",
    "    \n",
    "class ICECar(Car): # internal combustion car\n",
    "    def __init__(self, manfucturer, name, vin, fuel):\n",
    "        super().__init__(manfucturer, name, vin)    # super returns 'self' for parrent class\n",
    "        self.fuel = fuel\n",
    "\n",
    "    def drive(self, distance):\n",
    "        super().drive(distance)\n",
    "        self.fuel -= distance\n",
    "\n",
    "class ElectricCar(Car):\n",
    "    def __init__(self, manfucturer, name, vin, capacity):\n",
    "        super().__init__(manfucturer, name, vin) # might as well Car.__init__()\n",
    "        self.capacity = capacity\n",
    "\n",
    "    def drive(self, distance):\n",
    "        super().drive(distance) # If you remove drive() in ElectricCar then super() will call ICEcar\n",
    "        self.capacity -= distance\n",
    "\n",
    "class HybridCar(ElectricCar, ICECar):\n",
    "    def __init__(self, manufacturer, name, vin, fuel, capacity):\n",
    "        Car.__init__(self, manufacturer, name, bin)\n",
    "        self.fuel = fuel\n",
    "        self.capacity = capacity\n",
    "\n",
    "hybrid = HybridCar('Volvo', 'XC90', 999, 60, 50)\n",
    "print(f'Fuel is {hybrid.fuel}, capacity is {hybrid.capacity}')\n",
    "hybrid.drive(20) # Notice how fuel gets less if you write ICECar, ElectricCar.\n",
    "print(f'Fuel is {hybrid.fuel}, capacity is {hybrid.capacity}')"
   ]
  },
  {
   "cell_type": "code",
   "execution_count": null,
   "metadata": {},
   "outputs": [],
   "source": [
    "# Incapsulation\n",
    "# self._field -> you can print(ins1._field), but CANNOT change.\n",
    "# self.__field -> you can't access outside of class\n",
    "\n",
    "class Car:    \n",
    "    def __init__(self, manfucturer, name, vin): \n",
    "        self._manufacturer = manfucturer # _name is a convention for writing fields which are not meant to be explicitly changed\n",
    "        # i.e. Car._manufacturer = 10 is forbidden.\n",
    "        self.name = name\n",
    "        self.__vin = vin\n",
    "\n",
    "    def __del__(self):\n",
    "        print('In __del__(self)')\n",
    "\n",
    "    def __str__(self):\n",
    "        return f'This car is {self.name}, made by {self._manufacturer.upper()}'\n",
    "    \n",
    "    def drive(self, distance):\n",
    "        print(f'Driving for {distance}km')\n",
    "    \n",
    "class ICECar(Car): # internal combustion car\n",
    "    def __init__(self, manfucturer, name, vin, fuel):\n",
    "        super().__init__(manfucturer, name, vin)    # super returns 'self' for parrent class\n",
    "        self.fuel = fuel\n",
    "\n",
    "    def drive(self, distance):\n",
    "        super().drive(distance)\n",
    "        self.fuel -= distance\n",
    "\n",
    "class ElectricCar(Car):\n",
    "    def __init__(self, manfucturer, name, vin, capacity):\n",
    "        super().__init__(manfucturer, name, vin) # might as well Car.__init__()\n",
    "        self.capacity = capacity\n",
    "\n",
    "    def drive(self, distance):\n",
    "        super().drive(distance) # If you remove drive() in ElectricCar then super() will call ICEcar\n",
    "        self.capacity -= distance\n",
    "\n",
    "class HybridCar(ElectricCar, ICECar):\n",
    "    def __init__(self, manufacturer, name, vin, fuel, capacity):\n",
    "        Car.__init__(self, manufacturer, name, bin)\n",
    "        self.fuel = fuel\n",
    "        self.capacity = capacity\n",
    "\n",
    "h = HybridCar('Volvo', 'XC90', 999, 60, 50)\n",
    "#print(h.__vin) # type object 'HybridCar' has no attribute '__vin'\n",
    "print(h.name) # But this works\n",
    "print(h._Car__vin(8)) # wtf is this tho. This is specific to Jupyter Notebook.\n",
    "# works in regular python\n",
    "c = Car('Volvo', 'CX60', 12344343)\n",
    "print(c._Car__vin) # You can still access it like this. "
   ]
  },
  {
   "cell_type": "code",
   "execution_count": null,
   "metadata": {},
   "outputs": [],
   "source": [
    "## static fields\n",
    "class X:\n",
    "    field = 20 # static\n",
    "\n",
    "ins1 = X()\n",
    "print(X.field)\n",
    "print(ins1.field)\n",
    "ins2 = X()\n",
    "ins2.field = 100 # Static field changes only for this instance\n",
    "# Now ins2 has its own field \n",
    "print(ins1.field, X.field, ins2.field)\n",
    "X.field = 1000\n",
    "print(ins1.field, X.field, ins2.field) # A prikol here. "
   ]
  },
  {
   "cell_type": "code",
   "execution_count": null,
   "metadata": {},
   "outputs": [],
   "source": [
    "## Modules\n",
    "import time\n",
    "import pandas as pd\n",
    "from matplotlib import pyplot \n",
    "from numpy import *\n",
    "import pandas as pd\n",
    "from math import sin, cos, cosh as ch\n",
    "\n",
    "class Timer:    \n",
    "    def __init__(self) -> None:\n",
    "        self.begin = time.time()\n",
    "\n",
    "    def __del__(self) -> None:\n",
    "        print(f'Elapsed time is { time.time() - self.begin }.')\n",
    "\n",
    "def compute() -> float:\n",
    "    t = Timer()\n",
    "    sum = 0.\n",
    "    for i in range( int( 1000 ) ):\n",
    "        sum += sin(i) + cos(i)\n",
    "\n",
    "    t.__del__() # so you need call a destructor here. Sounds familiar? Having to remember to destroy something.\n",
    "    return sum\n",
    "\n",
    "print(f'sum of stuff is {compute()}') # t is not guaranteed to be deleted right after compute() here.\n",
    "\n",
    "compute() \n",
    "\n",
    "# This leads us to DECORATORS\n",
    "# @ is a function that takes a function and expands its behavior.\n",
    "\n",
    "def hello_decorator(some_function): # a function is a 'first-class object' in python. 这是很好玩。\n",
    "    def wrapper_function(*args, **kwargs): # pass all arguments down to some_function().\n",
    "        print('hello_decorator():wrapper_function()')\n",
    "        # ... some new functionality here ... #\n",
    "        some_function(*args, **kwargs)\n",
    "    return wrapper_function\n",
    "\n",
    "\n",
    "@hello_decorator\n",
    "def foo(arg=None):\n",
    "    print(f'foo(), received {arg}')\n",
    "\n",
    "# hello_decorator(foo)(1) # this is a decorated function being called. \n",
    "foo()\n",
    "print('--------------------------')\n",
    "def measured(f):\n",
    "    def g(*args, **kwargs):\n",
    "        import time\n",
    "        t = time.time()\n",
    "        return_val = f(*args, **kwargs)\n",
    "        print(f'Elapsed time for {f.__name__} : { time.time() - t}')\n",
    "        return return_val\n",
    "    return g\n",
    "\n",
    "@measured\n",
    "def bar():\n",
    "    sum = 0.\n",
    "    for i in range( int( 1_000_000_0 ) ):\n",
    "        sum += sin(i) + cos(i)\n",
    "    return sum\n",
    "\n",
    "bar()"
   ]
  },
  {
   "cell_type": "markdown",
   "metadata": {},
   "source": [
    "# 03.10.23"
   ]
  },
  {
   "cell_type": "markdown",
   "metadata": {},
   "source": [
    "```python\n",
    "lst = []\n",
    "# You don't need a comprehension here.\n",
    "m, n = tuple( int(i) for i in input().split(' ') )\n",
    "# lst = list( int(i) for i in input().split(' ') )\n",
    "field  = [input() for i in range(n)]\n",
    "```"
   ]
  },
  {
   "cell_type": "markdown",
   "metadata": {},
   "source": [
    "# 17.10.23"
   ]
  },
  {
   "cell_type": "markdown",
   "metadata": {},
   "source": [
    "Iterators, generators, self-written modules. They ask about iters, gens, @ at interviews."
   ]
  },
  {
   "cell_type": "code",
   "execution_count": null,
   "metadata": {},
   "outputs": [],
   "source": [
    "array = [4, 42, 'x']\n",
    "it = iter(array)\n",
    "print(next(it), next(it), next(it))#, next(it)) # StopIteration exception is thrown.\n",
    "# This is what happens in a for-loop.\n",
    "# Iterators are objects providing a universal interface for iterating over a collection.\n",
    "# \n"
   ]
  },
  {
   "cell_type": "code",
   "execution_count": null,
   "metadata": {},
   "outputs": [],
   "source": [
    "# Needs __iter__, __next__.\n",
    "class LimitedIter:\n",
    "    ''' Return elements until limit is reached. '''\n",
    "    def __init__(self, limit) -> None:\n",
    "        self.limit = limit\n",
    "        self.current = 0\n",
    "    def __iter__(self):\n",
    "        return self\n",
    "    \n",
    "    def __next__(self):\n",
    "        if self.current < self.limit:\n",
    "            self.current += 1\n",
    "            return self.current\n",
    "        else:\n",
    "            raise StopIteration\n",
    "\n",
    "it = LimitedIter(5)\n",
    "# next(it) # 'LimitedIter' object is not an iterator\n",
    "print( *[next(it) for i in range(5) ] )\n",
    "for item in it:\n",
    "    print(item) # 'LimitedIter' object is not iterable if __iter__ is not defined.\n",
    "    # Nothing happens since each next() already throws StopIteration.\n",
    "\n",
    "# If you wanna write an iterator for your super cool container,\n",
    "# write the iterator class separately and then define __iter__ in your container class\n",
    "# which will simply return the instance of the iterator class.\n",
    "# So each instance of your container will have its own instance of the iterator."
   ]
  },
  {
   "cell_type": "markdown",
   "metadata": {},
   "source": [
    "Now let's rewrite the logic above (return a num until some threshold is reached) in __GENERATORS__.    \n",
    "Generator is an object returning other objects.   \n",
    "Every iterator is a generator, but not true vice versa.   \n",
    "Good read: [link](https://stackoverflow.com/questions/1756096/understanding-generators-in-python)"
   ]
  },
  {
   "cell_type": "code",
   "execution_count": null,
   "metadata": {},
   "outputs": [],
   "source": [
    "def limited_generator(limit):\n",
    "    counter = 0\n",
    "    print('Before yield.')\n",
    "    while counter < limit:\n",
    "        counter += 1\n",
    "        yield counter\n",
    "        print('After yield.')\n",
    "    return\n",
    "\n",
    "gen = limited_generator(5)\n",
    "next(gen), next(gen), next(gen)\n",
    "next(gen) # Observe how yield \"freezes\" execution at its line.\n",
    "\n",
    "def _range(begin, end, step=1):\n",
    "    while begin < end:\n",
    "        yield begin\n",
    "        begin += step\n",
    "    return \"GENERATION FINISHED.\"\n",
    "print('Generator:')\n",
    "print( *[i for i in _range(1, 5)] )\n",
    "print('Fun:')\n",
    "# Generator expressions are a high performance, memory efficient generalization of\n",
    "# list comprehensions and generators.\n",
    "print( type( i for i in _range(1, 5) ) )\n",
    "# This approach is better than list comp. when we just need to iterate, i.e. we DO NOT NEED THE LIST AS A WHOLE.\n"
   ]
  },
  {
   "cell_type": "code",
   "execution_count": 5,
   "metadata": {},
   "outputs": [
    {
     "name": "stdout",
     "output_type": "stream",
     "text": [
      "140369334829392\n",
      "140369334829392\n",
      "True\n",
      "True\n",
      "False\n",
      "True\n"
     ]
    }
   ],
   "source": [
    "y = 4\n",
    "print( id(y) )\n",
    "z = 4\n",
    "print( id(z) ) # Should be different.\n",
    "\n",
    "print( y == z )\n",
    "print( y is z )\n",
    "\n",
    "a = 'smth&'\n",
    "b = 'smth&'\n",
    "print(a is b)   # Notice how & breaks is here.\n",
    "a = 'smth'\n",
    "b = 'smth'\n",
    "print(a is b)   # Python tries to use less memory, but with & it fails."
   ]
  },
  {
   "cell_type": "markdown",
   "metadata": {},
   "source": [
    "# 07.11.23"
   ]
  },
  {
   "cell_type": "markdown",
   "metadata": {},
   "source": [
    "Scipy and pandas, and sympy."
   ]
  },
  {
   "cell_type": "markdown",
   "metadata": {},
   "source": [
    "1. Scipy - СЛАУ, интегрирование и др. ЧИСЛЕННО!\n",
    "2. Sympy - символьные выражения (раскроет скобки) + точные вычисления (when float precisions is not enough).\n",
    "3. Pandas - data analysis.    \n",
    "**Tip** 忘记的时候搜索\"Crash course\"."
   ]
  },
  {
   "cell_type": "code",
   "execution_count": 10,
   "metadata": {},
   "outputs": [
    {
     "data": {
      "text/plain": [
       "array([ 6.66666667,  1.33333333, -1.66666667])"
      ]
     },
     "execution_count": 10,
     "metadata": {},
     "output_type": "execute_result"
    }
   ],
   "source": [
    "import scipy\n",
    "import numpy as np\n",
    "\n",
    "A = np.array([ [1, 2, 5], [2, -1, 6], [0., 1, -1]])\n",
    "\n",
    "eigenvals, eigenvecs = scipy.linalg.eig(A)\n",
    "\n",
    "b = np.array([1, 2, 3], dtype=np.float64)\n",
    "x = scipy.linalg.solve(A, b)"
   ]
  },
  {
   "cell_type": "code",
   "execution_count": 18,
   "metadata": {},
   "outputs": [
    {
     "data": {
      "text/plain": [
       "(4.9225526349740854e-17, 2.2102239425853306e-14)"
      ]
     },
     "execution_count": 18,
     "metadata": {},
     "output_type": "execute_result"
    }
   ],
   "source": [
    "def f(x):\n",
    "    return np.cos(x)\n",
    "\n",
    "scipy.integrate.quad(f, 0, np.pi) # haha funny"
   ]
  },
  {
   "cell_type": "code",
   "execution_count": 29,
   "metadata": {},
   "outputs": [
    {
     "name": "stdout",
     "output_type": "stream",
     "text": [
      "Result type is <class 'sympy.core.power.Pow'>\n",
      "0.142857142857143 + sqrt(6)\n",
      "Result type is <class 'sympy.core.power.Pow'>, 1/7 + sqrt(6)\n"
     ]
    },
    {
     "data": {
      "text/plain": [
       "2.592346885640321"
      ]
     },
     "execution_count": 29,
     "metadata": {},
     "output_type": "execute_result"
    }
   ],
   "source": [
    "import sympy\n",
    "\n",
    "sqrt_6 = sympy.sqrt(6)\n",
    "print(f'Result type is {type(sqrt_6)}')\n",
    "\n",
    "print(sqrt_6 + 1/7)\n",
    "num = sympy.Rational(1, 7) + sqrt_6\n",
    "print(f'Result type is {type(sqrt_6)}, {num}')\n",
    "num.n() # Obtain float representation (sympy.float)\n",
    "num_fl = float(num.n())\n",
    "num_fl"
   ]
  },
  {
   "cell_type": "code",
   "execution_count": 35,
   "metadata": {},
   "outputs": [
    {
     "data": {
      "text/latex": [
       "$\\displaystyle \\frac{x^{2} - 1}{x^{2} + 1}$"
      ],
      "text/plain": [
       "(x**2 - 1)/(x**2 + 1)"
      ]
     },
     "execution_count": 35,
     "metadata": {},
     "output_type": "execute_result"
    }
   ],
   "source": [
    "x = sympy.Symbol('x')\n",
    "theta = sympy.Symbol('theta')\n",
    "\n",
    "expr = (x ** 2 - 1) / (x**2 + 1)\n",
    "expr"
   ]
  },
  {
   "cell_type": "code",
   "execution_count": 48,
   "metadata": {},
   "outputs": [
    {
     "data": {
      "text/latex": [
       "$\\displaystyle \\left(x + 1\\right) \\left(x + 2\\right)$"
      ],
      "text/plain": [
       "(x + 1)*(x + 2)"
      ]
     },
     "execution_count": 48,
     "metadata": {},
     "output_type": "execute_result"
    }
   ],
   "source": [
    "quadratic = x**2 + 3*x + 2\n",
    "sympy.factor(quadratic)"
   ]
  },
  {
   "cell_type": "code",
   "execution_count": 49,
   "metadata": {},
   "outputs": [
    {
     "data": {
      "text/latex": [
       "$\\displaystyle \\frac{y^{2} - 1}{y^{2} + 1}$"
      ],
      "text/plain": [
       "(y**2 - 1)/(y**2 + 1)"
      ]
     },
     "execution_count": 49,
     "metadata": {},
     "output_type": "execute_result"
    }
   ],
   "source": [
    "expr.subs('x', 'y')"
   ]
  },
  {
   "cell_type": "code",
   "execution_count": 65,
   "metadata": {},
   "outputs": [
    {
     "name": "stdout",
     "output_type": "stream",
     "text": [
      "0.6\n",
      "Eq(alpha**2 - 2, alpha)\n"
     ]
    },
    {
     "data": {
      "text/plain": [
       "[{alpha: -1}, {alpha: 2}]"
      ]
     },
     "execution_count": 65,
     "metadata": {},
     "output_type": "execute_result"
    }
   ],
   "source": [
    "func = sympy.lambdify(x, expr)\n",
    "print( func(2) ) # you can also lambdify func of multiple variables\n",
    "\n",
    "cos_2 = sympy.cos(2*x)\n",
    "sympy.expand_trig(cos_2)\n",
    "\n",
    "a = sympy.Symbol('alpha')\n",
    "equation = sympy.Eq(a**2 - 2, a)\n",
    "print(equation)\n",
    "sympy.solve(equation, a, dict=True)"
   ]
  },
  {
   "cell_type": "markdown",
   "metadata": {},
   "source": [
    "## Pandas time"
   ]
  },
  {
   "cell_type": "code",
   "execution_count": 81,
   "metadata": {},
   "outputs": [
    {
     "data": {
      "text/html": [
       "<div>\n",
       "<style scoped>\n",
       "    .dataframe tbody tr th:only-of-type {\n",
       "        vertical-align: middle;\n",
       "    }\n",
       "\n",
       "    .dataframe tbody tr th {\n",
       "        vertical-align: top;\n",
       "    }\n",
       "\n",
       "    .dataframe thead th {\n",
       "        text-align: right;\n",
       "    }\n",
       "</style>\n",
       "<table border=\"1\" class=\"dataframe\">\n",
       "  <thead>\n",
       "    <tr style=\"text-align: right;\">\n",
       "      <th></th>\n",
       "      <th>Duration</th>\n",
       "      <th>Date</th>\n",
       "      <th>Pulse</th>\n",
       "      <th>Maxpulse</th>\n",
       "      <th>Calories</th>\n",
       "    </tr>\n",
       "  </thead>\n",
       "  <tbody>\n",
       "    <tr>\n",
       "      <th>0</th>\n",
       "      <td>60</td>\n",
       "      <td>'2020/12/01'</td>\n",
       "      <td>110</td>\n",
       "      <td>130</td>\n",
       "      <td>409.1</td>\n",
       "    </tr>\n",
       "    <tr>\n",
       "      <th>1</th>\n",
       "      <td>60</td>\n",
       "      <td>'2020/12/02'</td>\n",
       "      <td>117</td>\n",
       "      <td>145</td>\n",
       "      <td>479.0</td>\n",
       "    </tr>\n",
       "    <tr>\n",
       "      <th>2</th>\n",
       "      <td>60</td>\n",
       "      <td>'2020/12/03'</td>\n",
       "      <td>103</td>\n",
       "      <td>135</td>\n",
       "      <td>340.0</td>\n",
       "    </tr>\n",
       "    <tr>\n",
       "      <th>3</th>\n",
       "      <td>45</td>\n",
       "      <td>'2020/12/04'</td>\n",
       "      <td>109</td>\n",
       "      <td>175</td>\n",
       "      <td>282.4</td>\n",
       "    </tr>\n",
       "    <tr>\n",
       "      <th>4</th>\n",
       "      <td>45</td>\n",
       "      <td>'2020/12/05'</td>\n",
       "      <td>117</td>\n",
       "      <td>148</td>\n",
       "      <td>406.0</td>\n",
       "    </tr>\n",
       "  </tbody>\n",
       "</table>\n",
       "</div>"
      ],
      "text/plain": [
       "   Duration          Date  Pulse  Maxpulse  Calories\n",
       "0        60  '2020/12/01'    110       130     409.1\n",
       "1        60  '2020/12/02'    117       145     479.0\n",
       "2        60  '2020/12/03'    103       135     340.0\n",
       "3        45  '2020/12/04'    109       175     282.4\n",
       "4        45  '2020/12/05'    117       148     406.0"
      ]
     },
     "execution_count": 81,
     "metadata": {},
     "output_type": "execute_result"
    }
   ],
   "source": [
    "import pandas as pd\n",
    "\n",
    "df = pd.read_csv('Data.csv')\n",
    "df.head()"
   ]
  },
  {
   "cell_type": "code",
   "execution_count": 86,
   "metadata": {},
   "outputs": [
    {
     "name": "stdout",
     "output_type": "stream",
     "text": [
      "<class 'pandas.core.frame.DataFrame'>\n",
      "RangeIndex: 32 entries, 0 to 31\n",
      "Data columns (total 5 columns):\n",
      " #   Column    Non-Null Count  Dtype  \n",
      "---  ------    --------------  -----  \n",
      " 0   Duration  32 non-null     int64  \n",
      " 1   Date      31 non-null     object \n",
      " 2   Pulse     32 non-null     int64  \n",
      " 3   Maxpulse  32 non-null     int64  \n",
      " 4   Calories  30 non-null     float64\n",
      "dtypes: float64(1), int64(3), object(1)\n",
      "memory usage: 1.4+ KB\n"
     ]
    }
   ],
   "source": [
    "df.columns\n",
    "df.dtypes\n",
    "df.info()"
   ]
  },
  {
   "cell_type": "code",
   "execution_count": 98,
   "metadata": {},
   "outputs": [
    {
     "data": {
      "text/html": [
       "<div>\n",
       "<style scoped>\n",
       "    .dataframe tbody tr th:only-of-type {\n",
       "        vertical-align: middle;\n",
       "    }\n",
       "\n",
       "    .dataframe tbody tr th {\n",
       "        vertical-align: top;\n",
       "    }\n",
       "\n",
       "    .dataframe thead th {\n",
       "        text-align: right;\n",
       "    }\n",
       "</style>\n",
       "<table border=\"1\" class=\"dataframe\">\n",
       "  <thead>\n",
       "    <tr style=\"text-align: right;\">\n",
       "      <th></th>\n",
       "      <th>Calories</th>\n",
       "      <th>Date</th>\n",
       "    </tr>\n",
       "  </thead>\n",
       "  <tbody>\n",
       "    <tr>\n",
       "      <th>0</th>\n",
       "      <td>409.1</td>\n",
       "      <td>'2020/12/01'</td>\n",
       "    </tr>\n",
       "    <tr>\n",
       "      <th>1</th>\n",
       "      <td>479.0</td>\n",
       "      <td>'2020/12/02'</td>\n",
       "    </tr>\n",
       "    <tr>\n",
       "      <th>2</th>\n",
       "      <td>340.0</td>\n",
       "      <td>'2020/12/03'</td>\n",
       "    </tr>\n",
       "  </tbody>\n",
       "</table>\n",
       "</div>"
      ],
      "text/plain": [
       "   Calories          Date\n",
       "0     409.1  '2020/12/01'\n",
       "1     479.0  '2020/12/02'\n",
       "2     340.0  '2020/12/03'"
      ]
     },
     "execution_count": 98,
     "metadata": {},
     "output_type": "execute_result"
    }
   ],
   "source": [
    "df.head(3)\n",
    "\n",
    "df[['Calories','Date']].head(3)"
   ]
  },
  {
   "cell_type": "code",
   "execution_count": 100,
   "metadata": {},
   "outputs": [
    {
     "data": {
      "text/html": [
       "<div>\n",
       "<style scoped>\n",
       "    .dataframe tbody tr th:only-of-type {\n",
       "        vertical-align: middle;\n",
       "    }\n",
       "\n",
       "    .dataframe tbody tr th {\n",
       "        vertical-align: top;\n",
       "    }\n",
       "\n",
       "    .dataframe thead th {\n",
       "        text-align: right;\n",
       "    }\n",
       "</style>\n",
       "<table border=\"1\" class=\"dataframe\">\n",
       "  <thead>\n",
       "    <tr style=\"text-align: right;\">\n",
       "      <th></th>\n",
       "      <th>Duration</th>\n",
       "      <th>Date</th>\n",
       "      <th>Pulse</th>\n",
       "      <th>Maxpulse</th>\n",
       "      <th>Calories</th>\n",
       "    </tr>\n",
       "  </thead>\n",
       "  <tbody>\n",
       "    <tr>\n",
       "      <th>2</th>\n",
       "      <td>60</td>\n",
       "      <td>'2020/12/03'</td>\n",
       "      <td>103</td>\n",
       "      <td>135</td>\n",
       "      <td>340.0</td>\n",
       "    </tr>\n",
       "    <tr>\n",
       "      <th>3</th>\n",
       "      <td>45</td>\n",
       "      <td>'2020/12/04'</td>\n",
       "      <td>109</td>\n",
       "      <td>175</td>\n",
       "      <td>282.4</td>\n",
       "    </tr>\n",
       "    <tr>\n",
       "      <th>6</th>\n",
       "      <td>60</td>\n",
       "      <td>'2020/12/07'</td>\n",
       "      <td>110</td>\n",
       "      <td>136</td>\n",
       "      <td>374.0</td>\n",
       "    </tr>\n",
       "  </tbody>\n",
       "</table>\n",
       "</div>"
      ],
      "text/plain": [
       "   Duration          Date  Pulse  Maxpulse  Calories\n",
       "2        60  '2020/12/03'    103       135     340.0\n",
       "3        45  '2020/12/04'    109       175     282.4\n",
       "6        60  '2020/12/07'    110       136     374.0"
      ]
     },
     "execution_count": 100,
     "metadata": {},
     "output_type": "execute_result"
    }
   ],
   "source": [
    "df.iloc[[2, 3, 6]]"
   ]
  },
  {
   "cell_type": "code",
   "execution_count": 103,
   "metadata": {},
   "outputs": [
    {
     "data": {
      "text/html": [
       "<div>\n",
       "<style scoped>\n",
       "    .dataframe tbody tr th:only-of-type {\n",
       "        vertical-align: middle;\n",
       "    }\n",
       "\n",
       "    .dataframe tbody tr th {\n",
       "        vertical-align: top;\n",
       "    }\n",
       "\n",
       "    .dataframe thead th {\n",
       "        text-align: right;\n",
       "    }\n",
       "</style>\n",
       "<table border=\"1\" class=\"dataframe\">\n",
       "  <thead>\n",
       "    <tr style=\"text-align: right;\">\n",
       "      <th></th>\n",
       "      <th>Pulse</th>\n",
       "      <th>Maxpulse</th>\n",
       "    </tr>\n",
       "  </thead>\n",
       "  <tbody>\n",
       "    <tr>\n",
       "      <th>0</th>\n",
       "      <td>110</td>\n",
       "      <td>130</td>\n",
       "    </tr>\n",
       "    <tr>\n",
       "      <th>2</th>\n",
       "      <td>103</td>\n",
       "      <td>135</td>\n",
       "    </tr>\n",
       "    <tr>\n",
       "      <th>4</th>\n",
       "      <td>117</td>\n",
       "      <td>148</td>\n",
       "    </tr>\n",
       "  </tbody>\n",
       "</table>\n",
       "</div>"
      ],
      "text/plain": [
       "   Pulse  Maxpulse\n",
       "0    110       130\n",
       "2    103       135\n",
       "4    117       148"
      ]
     },
     "execution_count": 103,
     "metadata": {},
     "output_type": "execute_result"
    }
   ],
   "source": [
    "df.loc[0:5:2, ['Pulse', 'Maxpulse']]\n"
   ]
  },
  {
   "cell_type": "code",
   "execution_count": 105,
   "metadata": {},
   "outputs": [
    {
     "data": {
      "text/html": [
       "<div>\n",
       "<style scoped>\n",
       "    .dataframe tbody tr th:only-of-type {\n",
       "        vertical-align: middle;\n",
       "    }\n",
       "\n",
       "    .dataframe tbody tr th {\n",
       "        vertical-align: top;\n",
       "    }\n",
       "\n",
       "    .dataframe thead th {\n",
       "        text-align: right;\n",
       "    }\n",
       "</style>\n",
       "<table border=\"1\" class=\"dataframe\">\n",
       "  <thead>\n",
       "    <tr style=\"text-align: right;\">\n",
       "      <th></th>\n",
       "      <th>Duration</th>\n",
       "      <th>Date</th>\n",
       "      <th>Pulse</th>\n",
       "      <th>Maxpulse</th>\n",
       "    </tr>\n",
       "    <tr>\n",
       "      <th>Calories</th>\n",
       "      <th></th>\n",
       "      <th></th>\n",
       "      <th></th>\n",
       "      <th></th>\n",
       "    </tr>\n",
       "  </thead>\n",
       "  <tbody>\n",
       "    <tr>\n",
       "      <th>409.1</th>\n",
       "      <td>60</td>\n",
       "      <td>'2020/12/01'</td>\n",
       "      <td>110</td>\n",
       "      <td>130</td>\n",
       "    </tr>\n",
       "    <tr>\n",
       "      <th>479.0</th>\n",
       "      <td>60</td>\n",
       "      <td>'2020/12/02'</td>\n",
       "      <td>117</td>\n",
       "      <td>145</td>\n",
       "    </tr>\n",
       "    <tr>\n",
       "      <th>340.0</th>\n",
       "      <td>60</td>\n",
       "      <td>'2020/12/03'</td>\n",
       "      <td>103</td>\n",
       "      <td>135</td>\n",
       "    </tr>\n",
       "  </tbody>\n",
       "</table>\n",
       "</div>"
      ],
      "text/plain": [
       "          Duration          Date  Pulse  Maxpulse\n",
       "Calories                                         \n",
       "409.1           60  '2020/12/01'    110       130\n",
       "479.0           60  '2020/12/02'    117       145\n",
       "340.0           60  '2020/12/03'    103       135"
      ]
     },
     "execution_count": 105,
     "metadata": {},
     "output_type": "execute_result"
    }
   ],
   "source": [
    "dfc = df.set_index('Calories')\n",
    "dfc.head(3)"
   ]
  },
  {
   "cell_type": "code",
   "execution_count": 119,
   "metadata": {},
   "outputs": [
    {
     "data": {
      "text/html": [
       "<div>\n",
       "<style scoped>\n",
       "    .dataframe tbody tr th:only-of-type {\n",
       "        vertical-align: middle;\n",
       "    }\n",
       "\n",
       "    .dataframe tbody tr th {\n",
       "        vertical-align: top;\n",
       "    }\n",
       "\n",
       "    .dataframe thead th {\n",
       "        text-align: right;\n",
       "    }\n",
       "</style>\n",
       "<table border=\"1\" class=\"dataframe\">\n",
       "  <thead>\n",
       "    <tr style=\"text-align: right;\">\n",
       "      <th></th>\n",
       "      <th>Duration</th>\n",
       "      <th>Date</th>\n",
       "      <th>Pulse</th>\n",
       "      <th>Maxpulse</th>\n",
       "    </tr>\n",
       "    <tr>\n",
       "      <th>Calories</th>\n",
       "      <th></th>\n",
       "      <th></th>\n",
       "      <th></th>\n",
       "      <th></th>\n",
       "    </tr>\n",
       "  </thead>\n",
       "  <tbody>\n",
       "    <tr>\n",
       "      <th>479.0</th>\n",
       "      <td>60</td>\n",
       "      <td>'2020/12/02'</td>\n",
       "      <td>117</td>\n",
       "      <td>145</td>\n",
       "    </tr>\n",
       "    <tr>\n",
       "      <th>340.0</th>\n",
       "      <td>60</td>\n",
       "      <td>'2020/12/03'</td>\n",
       "      <td>103</td>\n",
       "      <td>135</td>\n",
       "    </tr>\n",
       "  </tbody>\n",
       "</table>\n",
       "</div>"
      ],
      "text/plain": [
       "          Duration          Date  Pulse  Maxpulse\n",
       "Calories                                         \n",
       "479.0           60  '2020/12/02'    117       145\n",
       "340.0           60  '2020/12/03'    103       135"
      ]
     },
     "execution_count": 119,
     "metadata": {},
     "output_type": "execute_result"
    }
   ],
   "source": [
    "dfc.iloc[1:3]"
   ]
  },
  {
   "cell_type": "code",
   "execution_count": 122,
   "metadata": {},
   "outputs": [
    {
     "data": {
      "text/html": [
       "<div>\n",
       "<style scoped>\n",
       "    .dataframe tbody tr th:only-of-type {\n",
       "        vertical-align: middle;\n",
       "    }\n",
       "\n",
       "    .dataframe tbody tr th {\n",
       "        vertical-align: top;\n",
       "    }\n",
       "\n",
       "    .dataframe thead th {\n",
       "        text-align: right;\n",
       "    }\n",
       "</style>\n",
       "<table border=\"1\" class=\"dataframe\">\n",
       "  <thead>\n",
       "    <tr style=\"text-align: right;\">\n",
       "      <th></th>\n",
       "      <th>Duration</th>\n",
       "      <th>Date</th>\n",
       "      <th>Pulse</th>\n",
       "      <th>Maxpulse</th>\n",
       "      <th>Calories</th>\n",
       "    </tr>\n",
       "  </thead>\n",
       "  <tbody>\n",
       "    <tr>\n",
       "      <th>0</th>\n",
       "      <td>60</td>\n",
       "      <td>'2020/12/01'</td>\n",
       "      <td>110</td>\n",
       "      <td>130</td>\n",
       "      <td>409.1</td>\n",
       "    </tr>\n",
       "    <tr>\n",
       "      <th>1</th>\n",
       "      <td>60</td>\n",
       "      <td>'2020/12/02'</td>\n",
       "      <td>117</td>\n",
       "      <td>145</td>\n",
       "      <td>479.0</td>\n",
       "    </tr>\n",
       "    <tr>\n",
       "      <th>2</th>\n",
       "      <td>60</td>\n",
       "      <td>'2020/12/03'</td>\n",
       "      <td>103</td>\n",
       "      <td>135</td>\n",
       "      <td>340.0</td>\n",
       "    </tr>\n",
       "  </tbody>\n",
       "</table>\n",
       "</div>"
      ],
      "text/plain": [
       "   Duration          Date  Pulse  Maxpulse  Calories\n",
       "0        60  '2020/12/01'    110       130     409.1\n",
       "1        60  '2020/12/02'    117       145     479.0\n",
       "2        60  '2020/12/03'    103       135     340.0"
      ]
     },
     "execution_count": 122,
     "metadata": {},
     "output_type": "execute_result"
    }
   ],
   "source": [
    "mask = df['Duration'] == 60\n",
    "df[mask].head(3)"
   ]
  },
  {
   "cell_type": "code",
   "execution_count": 142,
   "metadata": {},
   "outputs": [
    {
     "data": {
      "text/html": [
       "<div>\n",
       "<style scoped>\n",
       "    .dataframe tbody tr th:only-of-type {\n",
       "        vertical-align: middle;\n",
       "    }\n",
       "\n",
       "    .dataframe tbody tr th {\n",
       "        vertical-align: top;\n",
       "    }\n",
       "\n",
       "    .dataframe thead th {\n",
       "        text-align: right;\n",
       "    }\n",
       "</style>\n",
       "<table border=\"1\" class=\"dataframe\">\n",
       "  <thead>\n",
       "    <tr style=\"text-align: right;\">\n",
       "      <th></th>\n",
       "      <th>Duration</th>\n",
       "      <th>Date</th>\n",
       "      <th>Pulse</th>\n",
       "      <th>Maxpulse</th>\n",
       "      <th>Calories</th>\n",
       "    </tr>\n",
       "  </thead>\n",
       "  <tbody>\n",
       "    <tr>\n",
       "      <th>count</th>\n",
       "      <td>32.000000</td>\n",
       "      <td>31</td>\n",
       "      <td>32.000000</td>\n",
       "      <td>32.000000</td>\n",
       "      <td>30.000000</td>\n",
       "    </tr>\n",
       "    <tr>\n",
       "      <th>unique</th>\n",
       "      <td>NaN</td>\n",
       "      <td>30</td>\n",
       "      <td>NaN</td>\n",
       "      <td>NaN</td>\n",
       "      <td>NaN</td>\n",
       "    </tr>\n",
       "    <tr>\n",
       "      <th>top</th>\n",
       "      <td>NaN</td>\n",
       "      <td>'2020/12/12'</td>\n",
       "      <td>NaN</td>\n",
       "      <td>NaN</td>\n",
       "      <td>NaN</td>\n",
       "    </tr>\n",
       "    <tr>\n",
       "      <th>freq</th>\n",
       "      <td>NaN</td>\n",
       "      <td>2</td>\n",
       "      <td>NaN</td>\n",
       "      <td>NaN</td>\n",
       "      <td>NaN</td>\n",
       "    </tr>\n",
       "    <tr>\n",
       "      <th>mean</th>\n",
       "      <td>68.437500</td>\n",
       "      <td>NaN</td>\n",
       "      <td>103.500000</td>\n",
       "      <td>128.500000</td>\n",
       "      <td>304.680000</td>\n",
       "    </tr>\n",
       "    <tr>\n",
       "      <th>std</th>\n",
       "      <td>70.039591</td>\n",
       "      <td>NaN</td>\n",
       "      <td>7.832933</td>\n",
       "      <td>12.998759</td>\n",
       "      <td>66.003779</td>\n",
       "    </tr>\n",
       "    <tr>\n",
       "      <th>min</th>\n",
       "      <td>30.000000</td>\n",
       "      <td>NaN</td>\n",
       "      <td>90.000000</td>\n",
       "      <td>101.000000</td>\n",
       "      <td>195.100000</td>\n",
       "    </tr>\n",
       "    <tr>\n",
       "      <th>50%</th>\n",
       "      <td>60.000000</td>\n",
       "      <td>NaN</td>\n",
       "      <td>102.500000</td>\n",
       "      <td>127.500000</td>\n",
       "      <td>291.200000</td>\n",
       "    </tr>\n",
       "    <tr>\n",
       "      <th>95%</th>\n",
       "      <td>60.000000</td>\n",
       "      <td>NaN</td>\n",
       "      <td>117.000000</td>\n",
       "      <td>147.450000</td>\n",
       "      <td>407.705000</td>\n",
       "    </tr>\n",
       "    <tr>\n",
       "      <th>max</th>\n",
       "      <td>450.000000</td>\n",
       "      <td>NaN</td>\n",
       "      <td>130.000000</td>\n",
       "      <td>175.000000</td>\n",
       "      <td>479.000000</td>\n",
       "    </tr>\n",
       "  </tbody>\n",
       "</table>\n",
       "</div>"
      ],
      "text/plain": [
       "          Duration          Date       Pulse    Maxpulse    Calories\n",
       "count    32.000000            31   32.000000   32.000000   30.000000\n",
       "unique         NaN            30         NaN         NaN         NaN\n",
       "top            NaN  '2020/12/12'         NaN         NaN         NaN\n",
       "freq           NaN             2         NaN         NaN         NaN\n",
       "mean     68.437500           NaN  103.500000  128.500000  304.680000\n",
       "std      70.039591           NaN    7.832933   12.998759   66.003779\n",
       "min      30.000000           NaN   90.000000  101.000000  195.100000\n",
       "50%      60.000000           NaN  102.500000  127.500000  291.200000\n",
       "95%      60.000000           NaN  117.000000  147.450000  407.705000\n",
       "max     450.000000           NaN  130.000000  175.000000  479.000000"
      ]
     },
     "execution_count": 142,
     "metadata": {},
     "output_type": "execute_result"
    }
   ],
   "source": [
    "df.sort_values(['Duration', 'Pulse'], ascending=[False, True]).head(3)\n",
    "\n",
    "df.describe()\n",
    "# 90й процентиль - value s.t. 90% of all values are not greater than that.\n",
    "# We can intorduce this notion for a given data set.\n",
    "df.describe(include='all', percentiles=[0.5, 0.95])"
   ]
  },
  {
   "cell_type": "code",
   "execution_count": 148,
   "metadata": {},
   "outputs": [
    {
     "name": "stdout",
     "output_type": "stream",
     "text": [
      "30\n",
      "   Duration          Date  Pulse  Maxpulse  Calories\n",
      "8        30  '2020/12/09'    109       133     195.1\n",
      "45\n",
      "    Duration          Date  Pulse  Maxpulse  Calories\n",
      "3         45  '2020/12/04'    109       175     282.4\n",
      "4         45  '2020/12/05'    117       148     406.0\n",
      "18        45  '2020/12/18'     90       112       NaN\n",
      "60\n",
      "   Duration          Date  Pulse  Maxpulse  Calories\n",
      "0        60  '2020/12/01'    110       130     409.1\n",
      "1        60  '2020/12/02'    117       145     479.0\n",
      "2        60  '2020/12/03'    103       135     340.0\n",
      "450\n",
      "   Duration          Date  Pulse  Maxpulse  Calories\n",
      "7       450  '2020/12/08'    104       134     253.3\n"
     ]
    }
   ],
   "source": [
    "df.head(3)\n",
    "\n",
    "gr = df.groupby('Duration')\n",
    "gr.describe()\n",
    "for name, group in gr:\n",
    "    print(name)\n",
    "    print(group.head(3))"
   ]
  }
 ],
 "metadata": {
  "kernelspec": {
   "display_name": "base",
   "language": "python",
   "name": "python3"
  },
  "language_info": {
   "codemirror_mode": {
    "name": "ipython",
    "version": 3
   },
   "file_extension": ".py",
   "mimetype": "text/x-python",
   "name": "python",
   "nbconvert_exporter": "python",
   "pygments_lexer": "ipython3",
   "version": "3.10.9"
  },
  "orig_nbformat": 4
 },
 "nbformat": 4,
 "nbformat_minor": 2
}
