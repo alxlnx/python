{
 "cells": [
  {
   "cell_type": "code",
   "execution_count": null,
   "id": "d5f35b7e",
   "metadata": {},
   "outputs": [],
   "source": [
    "import numpy as np\n",
    "\n",
    "def encode(a):\n",
    "    shifted = np.empty(a.size, dtype=np.int32)\n",
    "    shifted[:-1:] = a[1::]\n",
    "    shifted[-1]   = -100\n",
    "    print(shifted)\n",
    "    b = shifted != a\n",
    "    print(b)\n",
    "    \n",
    "    \n",
    "    return None\n",
    "\n",
    "x = np.array([1, 2, 2, 3, 3, 1, 1, 5, 5, 2, 3, 3])\n",
    "print(encode(x))"
   ]
  },
  {
   "cell_type": "markdown",
   "id": "b74899e0",
   "metadata": {},
   "source": [
    "# TODO"
   ]
  },
  {
   "cell_type": "markdown",
   "id": "07b8b1f4",
   "metadata": {},
   "source": [
    "# Избранное ДЗ <a name=\"hmwrk\"></a>"
   ]
  },
  {
   "cell_type": "markdown",
   "id": "c68412f1",
   "metadata": {},
   "source": [
    "0. Создать квадратную матрицу размера 8, на главной диаг. арифметическая прогрессия с шагом 3 (начиная с 3), а на побочной -1, остальные элементы 0."
   ]
  },
  {
   "cell_type": "code",
   "execution_count": null,
   "id": "bab2a913",
   "metadata": {},
   "outputs": [],
   "source": [
    "a = -1*np.eye(8)[::-1] + np.diag(np.arange(3, 27, 3))\n",
    "print(a)"
   ]
  },
  {
   "cell_type": "markdown",
   "id": "d24d28eb",
   "metadata": {},
   "source": [
    "1. Implementing matrix multiplication."
   ]
  },
  {
   "cell_type": "code",
   "execution_count": null,
   "id": "aee6a839",
   "metadata": {},
   "outputs": [],
   "source": [
    "def no_numpy_mult(first, second):\n",
    "    \"\"\"\n",
    "    param first: list of \"size\" lists, each contains \"size\" floats\n",
    "    param second: list of \"size\" lists, each contains \"size\" floats\n",
    "    \"\"\"\n",
    "    sz = len(first)\n",
    "    return [ [sum( [first[i][k]*second[k][j] for k in range(sz)] ) for j in range(sz)] for i in range(sz) ]\n",
    "\n",
    "def numpy_mult(first, second):\n",
    "    \"\"\"\n",
    "    param first: np.array[size, size]\n",
    "    param second: np.array[size, size]\n",
    "    \"\"\"\n",
    "\n",
    "    return np.dot(first, second)"
   ]
  },
  {
   "cell_type": "markdown",
   "id": "c8394a1d",
   "metadata": {},
   "source": [
    "2. Implementing vector product."
   ]
  },
  {
   "cell_type": "code",
   "execution_count": null,
   "id": "e2f5d240",
   "metadata": {},
   "outputs": [],
   "source": [
    "## Way one:\n",
    "def no_numpy_scalar(v1, v2):\n",
    "    result = sum( [v1[k]*v2[k] for k in range(len(v1)) ] )\n",
    "    return result\n",
    "## Way two:\n",
    "def no_numpy_scalar(v1, v2):\n",
    "    result = sum( list(map(lambda x, y: x * y, v1, v2)) )\n",
    "    return result\n",
    "## Way three:\n",
    "def no_numpy_scalar(v1, v2):\n",
    "    result = sum( [x * y for x, y in zip(v1, v2)] )\n",
    "    return result"
   ]
  },
  {
   "cell_type": "markdown",
   "id": "db8cc7e9",
   "metadata": {},
   "source": [
    "3. Сумма четных элементов на главной диагонали квадратной матрицы."
   ]
  },
  {
   "cell_type": "code",
   "execution_count": null,
   "id": "291de91e",
   "metadata": {},
   "outputs": [],
   "source": [
    "# One.\n",
    "def diag_2k(a):    \n",
    "    #param a: np.array[size, size]\n",
    "    diag = np.diagonal(a)\n",
    "    return np.sum( diag[diag % 2 == 0] )\n",
    "\n",
    "# Two.\n",
    "def diag_2k(a):    \n",
    "    #param a: np.array[size, size]\n",
    "    return np.trace( a * (a%2 == 0) )\n"
   ]
  },
  {
   "cell_type": "markdown",
   "id": "c341b888",
   "metadata": {},
   "source": [
    "4. Мегаслайсинг"
   ]
  },
  {
   "cell_type": "code",
   "execution_count": null,
   "id": "8ef3d7c0",
   "metadata": {},
   "outputs": [],
   "source": [
    "import numpy as np\n",
    "# Необходимо построить новый массив, где все элементы с нечетными индексами требуется заменить на число a (значение по умолчанию a=1). \n",
    "# Все элементы с четными индексами нужно возвести в куб. \n",
    "# Затем записать элементы в обратном порядке относительно их позиций. \n",
    "# В конце требуется слить массив xx с преобразованным xx и вернуть на выход функции \n",
    "# My solution:\n",
    "def transform(X, a=1):\n",
    "    \"\"\"\n",
    "    param X: np.array[batch_size, n]\n",
    "    \"\"\"\n",
    "\n",
    "    Y = np.empty( (X.shape[0], X.shape[1] * 2) , dtype=np.int64)\n",
    "    for i in range(X.shape[0]):\n",
    "        row = np.copy(X[i])\n",
    "        idx = np.indices(row.shape)\n",
    "        row[ idx[0] % 2 == 1 ] = a\n",
    "        row[ idx[0] % 2 == 0 ] = row[ idx[0] % 2 == 0 ] * row[ idx[0] % 2 == 0 ] * row[ idx[0] % 2 == 0 ]\n",
    "        Y[i] = np.concatenate( (X[i], row[::-1]) )\n",
    "\n",
    "    return Y\n",
    "# Better:\n",
    "def transform(X, a=1):\n",
    "    Y = np.copy(X)\n",
    "    Y[:, 1:2] = a\n",
    "    Y[:, 0:2] **= 3\n",
    "    return np.hstack(X, Y[:, ::-1])"
   ]
  },
  {
   "cell_type": "markdown",
   "id": "d70c31fb",
   "metadata": {},
   "source": [
    "# Python Crash Course 2ed."
   ]
  },
  {
   "cell_type": "markdown",
   "id": "e99713aa",
   "metadata": {},
   "source": [
    "## #2 Data types\n",
    "1. Vars - labels you can assign to values.   \n",
    "2. Strings - '' => you can use \"\" inside and vice versa.    \n",
    "```python\n",
    "name = 'ada'\n",
    "name.title()                # 'ada' -> 'Ada'\n",
    "name.upper(); name.lower(); # You may want to use these to normalize your data for futher consistent processing.\n",
    "```\n",
    "3. Strip:\n",
    "```python\n",
    "lang = ' python '\n",
    "lang.rstrip(); lang.lstrip(); lang.strip(); # Cuts off any whitespace symbols by default (i.e. '\\t' '\\n' ' ')\n",
    "                                            # THIS IS TEMPORARY. For permanent do 'lang = lang.Xstrip()'\n",
    "```\n",
    "4. Numbers\n",
    "```python\n",
    "universe_age = 14_000_000_000\n",
    "x, y, z = 0, 0, 0\n",
    "CONSTANT = 10\n",
    "import this\n",
    "type(4 / 2)                   # is float\n",
    "```"
   ]
  },
  {
   "cell_type": "markdown",
   "id": "ebfdfd2d",
   "metadata": {},
   "source": [
    "## #3&4 Lists (and tuples)\n",
    "1. Indexing and slicing\n",
    "```python\n",
    "print( list[-1] ) # -2, -3 work too. \n",
    "list = []\n",
    "                  # To determine how many elements are in a slice, sub start from end ( i.e. start - end ).\n",
    "list[start:end]   # list[[start, end)]; list[1:3] = list[1], list[2].\n",
    "list[:4]          # start at 0.\n",
    "list[-3:]         # stop at the end. Here last three elements.\n",
    "list[:]           # Make a copy. Remember that assigning one list to another (i.e. lst1 = lst2) will merely make them \"point\" to the same values.\n",
    "```\n",
    "2. Modifying\n",
    "```python\n",
    "list.append(item)\n",
    "list.insert(0, item) # 0 here is the index you want the new item to have after insertion.\n",
    "\n",
    "del list[-1]         # Remove by index in the list. \n",
    "last = list.pop()    # Remove the last element AND RETURN IT FOR USE.\n",
    "some = list.pop(2)   # Remove ANY element and return.\n",
    "list.remove(X)       # Remove by contents. Removes only THE FIST OCCURENCE. Use a loop for a complete removal:\n",
    "    while 'cat' in pets:\n",
    "        pets.remove('cat')\n",
    "```\n",
    "3. Organizing\n",
    "```python\n",
    "list.sort(reverse=True)    # Sort permanently.\n",
    "sorted(list, reverse=True) # Make a sorted COPY. You can alternatively do 'list[:].sort()'\n",
    "list.reverse()\n",
    "```\n",
    "4. Iterating, range()\n",
    "```python\n",
    "for item in list:\n",
    "    pass\n",
    "\n",
    "numbers = list( range( first, last, step ) ) # [first,last)\n",
    "\n",
    "squares  = [ val**2 for val in range(1,11) ]  # List comprehension.\n",
    "filtered = [ x for x in list if isinstance(x, int) ] # A filter using a comprehension.\n",
    "```\n",
    "5. **Tuples**\n",
    "```python\n",
    "dimensions = (200, 50, 100) # A tuple is an immutable list.\n",
    "dimensions = (100, 50, 40)  # You CAN reassign but CANNOT change individual elements.\n",
    "CONSTANT   = (3, )          # Tuple with just one element.\n",
    "```"
   ]
  },
  {
   "cell_type": "markdown",
   "id": "5543b43c",
   "metadata": {},
   "source": [
    "## #5 Ifs\n",
    "```python\n",
    "if 'audi' not in cars: # Checking if something is (not) present in a list.\n",
    "    pass\n",
    "elif:\n",
    "    pass\n",
    "else:\n",
    "    pass\n",
    "\n",
    "if list:               # Checking if an object is empty.\n",
    "    pass\n",
    "def func(name='')      # Useful in funcs with params with default values of '' i.e. funcs with OPTIONAL ARGS.\n",
    "    if name:\n",
    "        pass\n",
    "\n",
    "a = ( VALUE1 if BOOL else VALUE2 ) # () for clarity.\n",
    "a = BOOL and VALUE1 or VALUE2      # do not do that. do not.\n",
    "```\n"
   ]
  },
  {
   "cell_type": "markdown",
   "id": "9035ac0c",
   "metadata": {},
   "source": [
    "## #6 Dictionaries\n",
    "> A dictionary is __a set of (Key, Value) pairs.__    \n",
    "> __Keys__ must be of an __immutable data type__.     \n",
    "> Good for storing __different kinds of data about one object__ or __one kind of data about many objects__.\n",
    "1. Defining a dict.    \n",
    "```python\n",
    "dict = {}    # Typically used when storing user-supplied data or when working with code generating (K,V) pairs automatically.\n",
    "dict = { key1: val1, \n",
    "         key2: val2,\n",
    "         key3: val3 }\n",
    "\n",
    "dict = { car.GetName(): car.GetTopSpeed() for car in cars } # This is a dict comprehension.\n",
    "```\n",
    "2. Working with values.\n",
    "```python\n",
    "val = dict[key1]                     # Access.\n",
    "val = dict.get(key4, 'No such key.') # Try accesing via key4 and if it doesn't exist, return string 'No such key'. \n",
    "                                     # If no second arg specified, returns None.\n",
    "\n",
    "dict[key4] = val4 # Adding a (K,V) pair. If key4 is present, its value will be overwritten with val4.\n",
    "\n",
    "del dict[key4]    # Removing.\n",
    "```\n",
    "3. Looping through.\n",
    "```python\n",
    "for key, value in dict.items():  # items() returns A LIST of (k,v) pairs.\n",
    "    pass\n",
    "for key in dict:                 # keys()  is the default behavior.\n",
    "    pass\n",
    "for values in dict.values():     # In this case, you may also want to set(dict.values()) to remove duplicates.\n",
    "    pass\n",
    "```\n",
    "__P.S.__ Sometimes you will want a list of dictionaries (homogeneous objects like aliens), a dictionary of lists (pizza toppings), or a dict of dict (users with keys as their usernames and a dicts of info about them as values)."
   ]
  },
  {
   "cell_type": "markdown",
   "id": "bc76434e",
   "metadata": {},
   "source": [
    "## #7 User input\n",
    "```python\n",
    "value = input(\"Do you agree with the privacy policy [Y/N]: \") # Custom promt.\n",
    "number = int(input())\n",
    "\n",
    "while source:              # Use while-loops to modify lists as you work with them.\n",
    "    tmp = source.pop()\n",
    "    # ... #\n",
    "    destination.append(tmp)\n",
    "```"
   ]
  },
  {
   "cell_type": "markdown",
   "id": "e33fb865",
   "metadata": {},
   "source": [
    "## #8 Functions\n",
    "1. Make and call\n",
    "```python\n",
    "def func():\n",
    "    '''A brief description of what this does.''' # A docstring.\n",
    "    pass\n",
    "func()\n",
    "``` \n",
    "2. Argument types: _Positional, Keyword, Arbitrary, Arbitrary keyword._\n",
    "> __Arguments__ are what you pass to a function on call; __parameters__ are what you want the function to take when defining it.     \n",
    ">\n",
    ">Python must match each argument in the function call with a parameter in the function definition. Argument types represent __different ways__ to do it.\n",
    "```python\n",
    "def describe_pet(type, name):\n",
    "    pass\n",
    "# Positional argument is a value.\n",
    "# Order MATTERS.\n",
    "describe_pet('dog', 'Ollie')\n",
    "\n",
    "# Keyword argument is a name-value pair.\n",
    "# Order DOES NOT MATTER.\n",
    "describe_pet(name='Ollie', type='dog')\n",
    "\n",
    "# Parameters with DEFAULT VALUES ALWAYS COME AFTER. This is needed for matching params with args.\n",
    "def describe_pet(name, type='dog'):\n",
    "    pass\n",
    "describe_pet('Ollie')\n",
    "\n",
    "# Arbitrary arguments. \n",
    "# You know the KIND OF arguments you'll receive but don't know the NUMBER of arguments.\n",
    "# MUST BE LAST IN DEFINITION.\n",
    "def pizza(size, *args): \n",
    "    type(args)  # is list.\n",
    "pizza('40in', 'cheese', 'mushrooms', 'ew, mushrooms in a pizza')\n",
    "\n",
    "# Arbitrary keyword arguments. \n",
    "# You don't know the KIND OF arguments you'll receive.\n",
    "# MUST BE LAST IN DEFINITION.\n",
    "def user_profile(first_name, last_name, **kwargs):\n",
    "    type(kwargs)  # is dict.\n",
    "user_profile('Elon', 'Musk', job='SpaceX', occupation='LA', age='idk')\n",
    "``` "
   ]
  },
  {
   "cell_type": "markdown",
   "id": "2beb2bb6",
   "metadata": {},
   "source": [
    "## #10 Files and Exceptions\n",
    "1. Reading from a file    \n",
    "> 'open' modes: r, w, r+ (=r+w), a (append).\n",
    "```python\n",
    "with open(fname) as file_descriptor:       # Read is the default. 'file_descriptor' is usually just 'f'.\n",
    "    contents = file_descriptor.read()      # Reads the file as one string of data.\n",
    "    contents = file_descriptor.readlines() # Reads the file as a list of lines.\n",
    "    for line in file_descriptor:           # Alternitevaly, you can iterate over lines without saving them.\n",
    "        pass\n",
    "                                           # Use int(), float(), strip(), and split() for reading numbers.\n",
    "```    \n",
    "2. Writing to a file\n",
    "```python\n",
    "with open(fname, 'w') as file_descriptor:\n",
    "    file_desctiptor.write('test\\n')        # Note that this ERASES the contents of fname.\n",
    "                                           # Use str() for writing numbers since write() expects an arg of type string.\n",
    "```\n",
    "__P.S.__ For reading multiple files just write a f() that processes one file, put fnames in a list and then iterate over it calling the f() on each element.    \n",
    "3. Exceptions\n",
    "> Useful for checking if you have data available and otherwise promting for it (e.g. handling FileNotFoundError).\n",
    "```python\n",
    "try:                       # Code that might throw an exception.\n",
    "    print(5 / 0)            \n",
    "except ZeroDivisionError:  # Handling the exception.\n",
    "    pass                    \n",
    "else:                      # OPTIONAL: if no exception was thrown.\n",
    "    pass                   # Any code that depends on the try block succeeding is added to the else block.\n",
    "finally:                   # OPTIONAL: executed regardless of exceptions.\n",
    "    pass                   # Free resources here. See context managers for more info on freeing stuff.\n",
    "```\n",
    "4. Context managers allow you to easily free resources (e.g. databases, requests, files).    \n",
    "For example, files support a limited number of \"connections\" so if you don't close them after usage your program will eventually fail as the number of \"opens\" grows.     \n",
    "The __with__ statement clarifies code that previously would use try...finally blocks to ensure that clean-up code is executed.    \n",
    "You can define \\_\\_enter__() and \\_\\_exit__() methods for your classes to support 'with'.\n",
    "```python\n",
    "import os\n",
    "with os.scandir('.') as entries:\n",
    "    for e in entries:\n",
    "        print(e)\n",
    "\n",
    "import aiohttp\n",
    "with aiohttp.ClientSession() as session:\n",
    "    with session.get('https://python.org') as response:\n",
    "        pass\n",
    "```\n"
   ]
  },
  {
   "cell_type": "markdown",
   "id": "748c6f54",
   "metadata": {},
   "source": [
    "## #11 Testing code\n",
    "```python\n",
    "#...#\n",
    "```"
   ]
  },
  {
   "attachments": {},
   "cell_type": "markdown",
   "id": "52047496",
   "metadata": {},
   "source": [
    "# Numpy <a name=\"numpy\"></a> (Numerical Python)"
   ]
  },
  {
   "attachments": {},
   "cell_type": "markdown",
   "id": "a4246f41",
   "metadata": {},
   "source": [
    "**See https://numpy.org/doc/stable/user/absolute_beginners.html**"
   ]
  },
  {
   "attachments": {},
   "cell_type": "markdown",
   "id": "8f4efd58",
   "metadata": {},
   "source": [
    "## 1D Arrays"
   ]
  },
  {
   "cell_type": "code",
   "execution_count": 7,
   "id": "8dcee9f3",
   "metadata": {},
   "outputs": [
    {
     "name": "stdout",
     "output_type": "stream",
     "text": [
      "<class 'numpy.ndarray'>\n",
      "<class 'numpy.int64'>\n",
      "<class 'numpy.float64'>\n"
     ]
    }
   ],
   "source": [
    "import numpy as np\n",
    "b = np.array( [1, 2, 3], dtype='int64' ) # Convert a python list to numpy.ndarray.\n",
    "print(type(b))\n",
    "c = np.array( [1, 2, 3] )  # int64 is already the default.\n",
    "print(type(c[0]))\n",
    "d = np.array( [1., 2, 3] ) # float64 is the default for float values.\n",
    "print(type(d[0]))"
   ]
  },
  {
   "attachments": {},
   "cell_type": "markdown",
   "id": "08bc6616",
   "metadata": {},
   "source": [
    "### Properties and Generation"
   ]
  },
  {
   "cell_type": "code",
   "execution_count": 8,
   "id": "23d2486c",
   "metadata": {},
   "outputs": [
    {
     "name": "stdout",
     "output_type": "stream",
     "text": [
      "len: 2 -- количество элементов по первой оси. \n",
      "size: 24 -- всего элементов в матрице. \n",
      "ndim: 3 -- размерность матрицы. \n",
      "shape: (2, 3, 4) -- количество элементов по каждой оси.\n",
      "nbytes: 192 -- размер матрицы в байтах. \n",
      "dtype: int64 -- тип элементов матрицы.\n",
      "int16\n"
     ]
    }
   ],
   "source": [
    "# Help\n",
    "# np.lookfor('median') # ? * are also available.\n",
    "\n",
    "# Properties\n",
    "a = np.array([[[1, 2, 3, 4],\n",
    "                [2, 3, 4, 3],\n",
    "                [1, 1, 1, 1]], \n",
    "                [[1, 2, 3, 4],\n",
    "                [2, 3, 4, 3],\n",
    "                [1, 1, 1, 1]]])\n",
    "print(\"len:\", len(a), \"-- количество элементов по первой оси.\",\n",
    "      \"\\nsize:\", a.size, \"-- всего элементов в матрице.\",\n",
    "      \"\\nndim:\", a.ndim, \"-- размерность матрицы.\",\n",
    "      \"\\nshape:\", a.shape, \"-- количество элементов по каждой оси.\"\n",
    "      \"\\nnbytes:\", a.nbytes, \"-- размер матрицы в байтах.\",\n",
    "      \"\\ndtype:\", a.dtype, \"-- тип элементов матрицы.\")\n",
    "\n",
    "# Generating an array\n",
    "a = np.zeros(7, dtype='int64') # float64 here by default\n",
    "b = np.ones(7, dtype='int16')\n",
    "c = np.zeros_like(b)           # copies everything, dtype included\n",
    "print(c.dtype)\n",
    "\n",
    "# ARANGE - RETURN NDARRAY OF EVENLY SPACED VALUES WITHIN A GIVEN INTERVAL, FOCUS ON STEP\n",
    "a = np.arange(1, 16, 4) # [begin, end), step == range(1, 16, 4) here.\n",
    "# LINSPACE - RETURN NDARRAY OF EVENLY SPACED VALUES WITHIN A GIVEN INTERVAL, FOCUS ON POINTS\n",
    "a = np.linspace(1, 16, 10) # [begin, end], length\n",
    "b = np.logspace(0, 3, 12)  # evenly spaced on a base 10 log scale, from 10e0 to 10e3,\n"
   ]
  },
  {
   "attachments": {},
   "cell_type": "markdown",
   "id": "38529da1",
   "metadata": {},
   "source": [
    "**NB: Avoid using ndarrays in loops**\n"
   ]
  },
  {
   "attachments": {},
   "cell_type": "markdown",
   "id": "6c5b9b18",
   "metadata": {},
   "source": [
    "## Operations on 1D-Arrays"
   ]
  },
  {
   "attachments": {},
   "cell_type": "markdown",
   "id": "02bdc6ef",
   "metadata": {},
   "source": [
    "### Element-wise operations"
   ]
  },
  {
   "cell_type": "code",
   "execution_count": null,
   "id": "44dcb0d1",
   "metadata": {},
   "outputs": [],
   "source": [
    "# A + B, A - B, A / B, A * B\n",
    "a = np.linspace(1, 10, 10, dtype='int64')\n",
    "b = np.linspace(10, 20, 10, dtype='int64')\n",
    "\n",
    "# ALPHA * A\n",
    "a * 5, b + 10, a ** 2\n",
    "\n",
    "# IMPLICIT CASTS TO BIGGER ELEMENTS\n",
    "print(a + np.arange(10, dtype='int16'))\n",
    "print(type(a[0]))\n",
    "\n",
    "# UFUNCS - functions applied in element-wise fashion.\n",
    "np.cos(a)\n",
    "np.log(b)\n",
    "\n",
    "x = np.linspace(-4*np.pi, 4*np.pi, 100)\n",
    "np.all((np.sin(x)**2 + np.cos(x)**2).round() == 1)\n",
    "\n",
    "# LOGICAL\n",
    "print(a > b)\n",
    "print(a > 5)\n",
    "\n",
    "# ANY (E), ALL (V)\n",
    "a = np.arange(10., 20)\n",
    "print( np.any(a >= 10.), np.all(a > 15), sep=' ' )\n",
    "\n",
    "# INPLACE OPS\n",
    "a += np.sin(4) # *= /=, arrays also work\n",
    "\n",
    "# Constants\n",
    "print(np.e, np.pi)\n",
    "\n",
    "# CUMSUM - заменить на посл. частичных сумм\n",
    "b = np.arange(1, 21)\n",
    "print(f'{b}\\n{b.cumsum()}')"
   ]
  },
  {
   "attachments": {},
   "cell_type": "markdown",
   "id": "c3c25fa9",
   "metadata": {},
   "source": [
    "**There are no exceptions on zero devision**"
   ]
  },
  {
   "cell_type": "code",
   "execution_count": null,
   "id": "bb309980",
   "metadata": {},
   "outputs": [],
   "source": [
    "print(np.array([0.0, 0.0, 1.0, -1.0]) / np.array([1.0, 0.0, 0.0, 0.0]))"
   ]
  },
  {
   "attachments": {},
   "cell_type": "markdown",
   "id": "e1c377d4",
   "metadata": {},
   "source": [
    "### Algos"
   ]
  },
  {
   "cell_type": "code",
   "execution_count": null,
   "id": "2311b97b",
   "metadata": {},
   "outputs": [],
   "source": [
    "# SORT\n",
    "a = np.array([1, 5, 6, 10, -2, 0, 18])\n",
    "print(np.sort(a), a) # np.SORT DOES NOT CHANGE ITS ARGUMENT.\n",
    "a.sort()             # SORT DOES.\n",
    "print(a)\n",
    "\n",
    "# JOIN\n",
    "b = np.linspace(1, 10, 20)\n",
    "print( np.hstack( (a, b) ) )\n",
    "# help(np.hstack) ## There are different ways of doing that."
   ]
  },
  {
   "attachments": {},
   "cell_type": "markdown",
   "id": "0c710097",
   "metadata": {},
   "source": [
    "### Not element-wise operations"
   ]
  },
  {
   "cell_type": "code",
   "execution_count": null,
   "id": "152b4e88",
   "metadata": {},
   "outputs": [],
   "source": [
    "a = np.arange(1, 11) # The operations below do NOT change their argument (i.e. a).\n",
    "print( np.delete(a, [0, 5, 9] ) )  # Delete elements at idxs 0, 5, 9. You can also pass a tuple or an ndarray.\n",
    "print( np.insert(a, 2, [-100, +100]) ) # Insert [-100, +100] so that -100 has its idx = 2.\n",
    "print( np.append(a, [-0.1, +0.1, 0.0]) )"
   ]
  },
  {
   "attachments": {},
   "cell_type": "markdown",
   "id": "da58c271",
   "metadata": {},
   "source": [
    "## Indexing and slicing"
   ]
  },
  {
   "cell_type": "code",
   "execution_count": null,
   "id": "349927da",
   "metadata": {},
   "outputs": [],
   "source": [
    "# Reverse an array.\n",
    "a = np.arange(1, 11)\n",
    "print(a[::-1])\n",
    "\n",
    "# Slicing merely makes a referece to a portion of an array.\n",
    "b = a[0:6]\n",
    "b[-1] = -10\n",
    "print(a) # Note that something like b = np.append(b, [-1, 1]) wouldn't change a.\n",
    "# To avoid that behaviour, use np.copy():\n",
    "b = np.copy(a)\n",
    "\n",
    "# Slicing with steps.\n",
    "print(a)\n",
    "b = a[0:6:2] # [begin, end), step\n",
    "print(b)\n",
    "\n",
    "# Indexing with an array of idxs.\n",
    "print(a[ [0, 7, -1] ])"
   ]
  },
  {
   "attachments": {},
   "cell_type": "markdown",
   "id": "8acae515",
   "metadata": {},
   "source": [
    "## 2D Arrays"
   ]
  },
  {
   "attachments": {},
   "cell_type": "markdown",
   "id": "d88cf31d",
   "metadata": {},
   "source": [
    "### Specific operations <a name=\"specific_ops\"></a>"
   ]
  },
  {
   "cell_type": "code",
   "execution_count": null,
   "id": "3f9ee787",
   "metadata": {},
   "outputs": [],
   "source": [
    "# Making an array by hand.\n",
    "a = np.array( [\n",
    "    [1, 2],\n",
    "    [3, 4]\n",
    "] ) \n",
    "print(a, a.ndim)\n",
    "\n",
    "# Indexing ndim arrays\n",
    "print(a[1][1], a[1, 1])\n",
    "\n",
    "# Multiplication\n",
    "a = 5 * np.ones( (3, 3) )\n",
    "print(a)\n",
    "b = 3 * np.eye( 3 )\n",
    "print(a*b) # element-wise\n",
    "\n",
    "# Matrix multiplication\n",
    "print(a @ b)\n",
    "print(a.dot(b))\n",
    "print(np.dot(a, b))\n",
    "\n",
    "# Meshgrind does idk what"
   ]
  },
  {
   "attachments": {},
   "cell_type": "markdown",
   "id": "53ed1128",
   "metadata": {},
   "source": [
    "### Shaping"
   ]
  },
  {
   "cell_type": "code",
   "execution_count": null,
   "id": "ce613fb6",
   "metadata": {},
   "outputs": [],
   "source": [
    "# Reshaping\n",
    "b = np.arange(0, 20)\n",
    "b.shape = [2, 10] # tuples also work\n",
    "print(b)\n",
    "print(b.ravel())  # Make it 1D, DOES NOT change its object.\n",
    "b = b.ravel()\n",
    "print(b.reshape(2, 10))       # Does the same thing as b.shape = ...\n",
    "print(np.reshape(b, (2, 10))) # Again\n",
    "\n",
    "# Generating, omiting the second number results in an 1D array of the specified length. \n",
    "a = np.ones( (2, 3) )\n",
    "b = np.zeros( (2, 3) )\n",
    "c = np.eye( 3 )\n",
    "d = np.diag( [1, 2, 3, 4] )\n",
    "print(a, b, c, d, sep='\\n')"
   ]
  },
  {
   "attachments": {},
   "cell_type": "markdown",
   "id": "6cf521e7",
   "metadata": {},
   "source": [
    "### Masks & traces"
   ]
  },
  {
   "attachments": {},
   "cell_type": "markdown",
   "id": "11d807f7",
   "metadata": {},
   "source": [
    "Masks are boolean arrays indicating if an element of the same idx should be included in the result when the mask is applied."
   ]
  },
  {
   "cell_type": "code",
   "execution_count": null,
   "id": "21ca8bb9",
   "metadata": {},
   "outputs": [],
   "source": [
    "# Masks.\n",
    "a = np.arange(20)\n",
    "print(a % 3 == 0) # That yields an array of bools, see operations on 1D arrays.\n",
    "print(a[ a % 3 == 0 ]) # Couple that with np.ones(..., dtype=bool) below.\n",
    "\n",
    "# Traces.\n",
    "b = np.diag( a[ a>=10 ] )\n",
    "print(b)\n",
    "print(np.trace(b))"
   ]
  },
  {
   "attachments": {},
   "cell_type": "markdown",
   "id": "d5e5a7dd",
   "metadata": {},
   "source": [
    "**NB: You can generate bool-type arrays using np.ones**"
   ]
  },
  {
   "cell_type": "code",
   "execution_count": null,
   "id": "7fc4aa97",
   "metadata": {},
   "outputs": [],
   "source": [
    "a = np.ones((10, 10, 10), dtype=bool) # Notice how the second dim defaults to 1 here.\n",
    "print(a)"
   ]
  },
  {
   "cell_type": "code",
   "execution_count": null,
   "id": "a4a30383",
   "metadata": {},
   "outputs": [],
   "source": [
    "# Cool problem:\n",
    "# Создать квадратную матрицу размера 8, на главной диаг. арифметическая прогрессия с шагом 3 (начиная с 3), \n",
    "# а на побочной -1, остальные элементы 0.\n",
    "a = -1*np.eye(8)[::-1] + np.diag(np.arange(3, 27, 3))\n",
    "print(a)"
   ]
  },
  {
   "attachments": {},
   "cell_type": "markdown",
   "id": "04678262",
   "metadata": {},
   "source": [
    "## ND Arrays"
   ]
  },
  {
   "cell_type": "code",
   "execution_count": null,
   "id": "17c8e49a",
   "metadata": {},
   "outputs": [],
   "source": [
    "A = np.arange(64).reshape(8, 2, 4)\n",
    "print(A) # 8 layers -> 2 rows -> 4 columns\n",
    "print(A.shape, A.ndim, A.size, len(A))"
   ]
  },
  {
   "cell_type": "code",
   "execution_count": null,
   "id": "d497209c",
   "metadata": {},
   "outputs": [],
   "source": [
    "print(np.sum(A, axis=0)) # Sum of all layes, \"removes\" the first axis.\n",
    "!echo $((0 + 8 + 16 + 24 + 32 + 40 + 48 + 56)) \n",
    "print(np.sum(A, axis=1)) # Sum of rows within each layer, \"removes\" the second axis.\n",
    "print(np.sum(A, axis=2)) # Sum of cols within each layer.\n",
    "\n",
    "print(np.sum(A, axis=(1, 2))) # Sum of rows and cols right after. Each layer gets \"replaced\" with a sum.\n",
    "# For a fixed i sums all elements indexed as (i, *, *)."
   ]
  },
  {
   "attachments": {},
   "cell_type": "markdown",
   "id": "2cb696ea",
   "metadata": {},
   "source": [
    "## Linear Algebra"
   ]
  },
  {
   "cell_type": "code",
   "execution_count": null,
   "id": "8706b822",
   "metadata": {},
   "outputs": [],
   "source": [
    "# Determinant.\n",
    "a = np.array( [ [1, 2], [2, 3] ] )\n",
    "print(np.linalg.det(a) )\n",
    "\n",
    "# Inverse.\n",
    "b = np.linalg.inv(a)\n",
    "print(a @ b, b @ a, sep='\\n')\n",
    "\n",
    "# If the matrix is singular:\n",
    "c = np.array([[2, 1], [6, 3]])\n",
    "print(c)\n",
    "print(np.linalg.det(c)) \n",
    "try:\n",
    "    np.linalg.inv(c)\n",
    "except:\n",
    "    print(\"Oops!\")\n",
    "\n",
    "# Solving a СЛАУ.\n",
    "# 2x + y  = 5     |  (2, 1) (x) = (5)\n",
    "# 2x + 3y = -10   |  (2, 3) (y) = (-10)\n",
    "b = np.array( [5, -10] )\n",
    "a = np.array([[2, 1], [2, 3]])\n",
    "print(np.linalg.solve(a, b))\n",
    "print(a @ np.linalg.solve(a, b))\n",
    "\n",
    "# СВ и СЗ\n",
    "vals, vecs = np.linalg.eig(a.T) # T!!!\n",
    "print(vals, vecs, sep='\\n')"
   ]
  },
  {
   "cell_type": "markdown",
   "id": "5a199213",
   "metadata": {},
   "source": [
    "# Pandas"
   ]
  },
  {
   "cell_type": "markdown",
   "id": "32d284dc",
   "metadata": {},
   "source": [
    "## pd.Series - a column of data"
   ]
  },
  {
   "cell_type": "markdown",
   "id": "02fcf937",
   "metadata": {},
   "source": [
    "### Making a series"
   ]
  },
  {
   "cell_type": "code",
   "execution_count": null,
   "id": "f7292312",
   "metadata": {},
   "outputs": [],
   "source": [
    "import pandas as pd\n",
    "import numpy as np\n",
    "\n",
    "# SERIES CREATION\n",
    "ser = pd.Series( range(0,10) )         # Using an iterable.\n",
    "ser = pd.Series( np.array([1, 2, 3]) ) # Using an array-like object. Indexed as 0, 1, 2.\n",
    "ser = pd.Series( [ np.array([1, 2, 3]), np.array([-1, -2, -3]) ] ) # ser[0][0] yields 1.\n",
    "\n",
    "data = [1, 2, 3, np.nan, 6, 8]  # np.nan is a float value meaning a gap in data. \n",
    "ser  = pd.Series(data, index=['day one', 'day two', 'day 3', '4', '5', 'six'], name='Some random stuff')\n",
    "print(ser['day two'])\n",
    "print(ser); print()\n",
    "\n",
    "ser = pd.Series([1, 2, 3])\n",
    "print(ser[1]) # ser['1'] is an error.\n"
   ]
  },
  {
   "cell_type": "markdown",
   "id": "e2d4eb09",
   "metadata": {},
   "source": [
    "### Indexing & slicing"
   ]
  },
  {
   "cell_type": "code",
   "execution_count": null,
   "id": "a1c9a72c",
   "metadata": {},
   "outputs": [],
   "source": [
    "# SLICING\n",
    "data = [1, 2, 3, np.nan, 6, 8]  # np.nan is a float value meaning a gap in data. \n",
    "ser  = pd.Series(data, name='Exemplary series')\n",
    "print(ser, '\\n----------------')\n",
    "print(ser[2:-1], '\\n----------------') # NB: you cannot use -1 as an idx (i.e. ser[-1]) since -1 is not a valid KEY.\n",
    "print(ser[5:3:-1]) # 3:5 yields nothing."
   ]
  },
  {
   "cell_type": "code",
   "execution_count": 18,
   "id": "996ca1b7",
   "metadata": {},
   "outputs": [
    {
     "name": "stdout",
     "output_type": "stream",
     "text": [
      "2023-01-01    0.581458\n",
      "2023-01-02    0.251808\n",
      "2023-01-03    0.548128\n",
      "2023-01-04    0.211399\n",
      "2023-01-05    0.732869\n",
      "2023-01-06    0.327858\n",
      "2023-01-07    0.452773\n",
      "2023-01-08    0.438470\n",
      "2023-01-09    0.809808\n",
      "2023-01-10    0.021223\n",
      "Freq: D, dtype: float64 \n",
      "-----------------------\n",
      "2023-01-01    0.581458\n",
      "2023-01-03    0.548128\n",
      "2023-01-05    0.732869\n",
      "2023-01-09    0.809808\n",
      "dtype: float64\n",
      "-----------------------\n",
      "2023-01-09    0.809808\n",
      "2023-01-10    0.021223\n",
      "Freq: D, dtype: float64\n"
     ]
    }
   ],
   "source": [
    "# CONDITIONAL INDEXING\n",
    "import numpy as np\n",
    "date_range = pd.date_range('20230101', periods=10)\n",
    "series     = pd.Series(np.random.rand(10), date_range) # implicitly index=date_range.\n",
    "print(series,'\\n-----------------------')\n",
    "\n",
    "print(series[ series > 0.5 ]) # series > 0.5 returns a series with the same indexes but True/False as corresponding values.\n",
    "# So yes, it is possible to use a series of bool values as a mask (index) for any another series of the same size.\n",
    "print('-----------------------')\n",
    "\n",
    "print(series[ (series > 0.8) | (series < 0.1) ]) # Using logical operators. & and ^ are also supported.\n",
    "series = (series == 'female').astype(int) # A way to sub binary string values (e.g. male and female) with 0 and 1 for easier data processing."
   ]
  },
  {
   "cell_type": "markdown",
   "id": "28eddaa2",
   "metadata": {},
   "source": [
    "### Sorting"
   ]
  },
  {
   "cell_type": "code",
   "execution_count": null,
   "id": "479bc1a8",
   "metadata": {},
   "outputs": [],
   "source": [
    "import numpy as np\n",
    "date_range = pd.date_range('20230101', periods=4)\n",
    "series     = pd.Series(np.random.rand(4), date_range) # implicitly index=date_range.\n",
    "print(series,'\\n-----------------------')\n",
    "\n",
    "# NB: none of sorts below CHANGE the series. Use = to change it.\n",
    "print(series[::-1].sort_index()) # Sorting by indexes, [::-1] so that it actually sorts :)\n",
    "print('-----------------------') \n",
    "print(series.sort_values())      # By values."
   ]
  },
  {
   "cell_type": "markdown",
   "id": "be591a4e",
   "metadata": {},
   "source": [
    "### Operations on Series"
   ]
  },
  {
   "cell_type": "code",
   "execution_count": null,
   "id": "efb594d4",
   "metadata": {},
   "outputs": [],
   "source": [
    "import numpy as np\n",
    "date_range = pd.date_range('20230101', periods=6)\n",
    "series     = pd.Series(np.random.rand(6), date_range) # implicitly index=date_range.\n",
    "\n",
    "# Unary opsm, numpy ufuncs.\n",
    "series + 100 # *5, /2, etc\n",
    "series *= 10\n",
    "np.exp(series)\n",
    "np.cos(series)\n",
    "\n",
    "# Binary ops.\n",
    "date_range = pd.date_range('20230101', periods=4)\n",
    "series2 = pd.Series(np.random.rand(4), date_range) # low, high, quantity.\n",
    "#print(series, series2, sep='\\n')\n",
    "print(series + series2) # Indexes must be the same for this to work. Notice how you get NaNs.\n",
    "\n",
    "# Parameters.\n",
    "print(f'Size: {series.size}, shape: {series.shape}, ndim: {series.ndim}')\n"
   ]
  },
  {
   "cell_type": "markdown",
   "id": "0d14e3fe",
   "metadata": {},
   "source": [
    "## pd.DataFrame - a table"
   ]
  },
  {
   "cell_type": "markdown",
   "id": "f0c36307",
   "metadata": {},
   "source": [
    "### Creation"
   ]
  },
  {
   "cell_type": "code",
   "execution_count": 4,
   "id": "085c4836",
   "metadata": {},
   "outputs": [
    {
     "name": "stdout",
     "output_type": "stream",
     "text": [
      "   key_one  key_two key_three\n",
      "a      1.0      1.0       NaN\n",
      "b      2.0      2.0       NaN\n",
      "c      3.0      3.0       NaN\n",
      "d      NaN      4.0       NaN\n",
      "1      NaN      NaN       hey\n",
      "2      NaN      NaN       wow\n",
      "---------------------\n",
      "      zero  one   two\n",
      "ling   1.0    3   5.0\n",
      "yi     7.0    9  11.0\n",
      "er     2.0    4   6.0\n",
      "san    NaN   -1   2.2\n"
     ]
    }
   ],
   "source": [
    "# From a dictionary\n",
    "import pandas as pd\n",
    "dict = {'key_one': pd.Series( [1,2,3], index=['a', 'b', 'c'] ),\n",
    "        'key_two': pd.Series( [1.,2.,3.,4.], index=['a','b','c','d'] ),\n",
    "        'key_three': pd.Series( ['hey', 'wow'], index=[1, 2] )}\n",
    "# Column name = key, data = data_of_key\n",
    "df = pd.DataFrame(dict)\n",
    "print(df)\n",
    "print('---------------------')\n",
    "\n",
    "# From a list of lists\n",
    "import numpy as np\n",
    "array_like = [ [1, 3, 5], [7, 9, 11], [2, 4, 6], [np.nan, -1, 2.2] ] # The line below does the same in term of creating a df.\n",
    "#array_like = np.array( [ np.array([1,3,5]), np.array([7,9,11]), np.array([2,4,6]), np.array([np.nan, -1, 2.2]) ] )\n",
    "df = pd.DataFrame(array_like, index=['ling', 'yi', 'er', 'san'], columns=['zero', 'one', 'two'])\n",
    "print(df) # By default index and columns are simpy numbers from zero to whatever (illustrated by spelling them out in the example)."
   ]
  },
  {
   "cell_type": "markdown",
   "id": "e303ff6b",
   "metadata": {},
   "source": [
    "### Getting all data, setting columns & idx"
   ]
  },
  {
   "cell_type": "code",
   "execution_count": 5,
   "id": "22c72942",
   "metadata": {},
   "outputs": [
    {
     "name": "stdout",
     "output_type": "stream",
     "text": [
      "      zero  one   two\n",
      "ling   1.0    3   5.0\n",
      "yi     7.0    9  11.0\n",
      "er     2.0    4   6.0\n",
      "san    NaN   -1   2.2 \n",
      "-----------------------1\n",
      "[[ 1.   3.   5. ]\n",
      " [ 7.   9.  11. ]\n",
      " [ 2.   4.   6. ]\n",
      " [ nan -1.   2.2]]\n",
      "Index(['zero', 'one', 'two'], dtype='object')\n",
      "Index(['ling', 'yi', 'er', 'san'], dtype='object')\n",
      "-------------------2\n",
      "   col1  col2  col3\n",
      "1   1.0     3   5.0\n",
      "2   7.0     9  11.0\n",
      "3   2.0     4   6.0\n",
      "4   NaN    -1   2.2\n"
     ]
    }
   ],
   "source": [
    "import numpy as np\n",
    "array_like = [ [1, 3, 5], [7, 9, 11], [2, 4, 6], [np.nan, -1, 2.2] ]\n",
    "df = pd.DataFrame(array_like, index=['ling', 'yi', 'er', 'san'], columns=['zero', 'one', 'two'])\n",
    "print(df, '\\n-----------------------1')\n",
    "\n",
    "print(df.values) # Retuns a numpy.ndarray.\n",
    "print(df.columns) # Retuns a pandas.Index. (?)\n",
    "print(df.index)\n",
    "print('-------------------2')\n",
    "df.columns = np.array(['col1', 'col2', 'col3']) # Yes, that works too. Though a simple list is much better here.\n",
    "df.index   = [1, 2, 3, 4]\n",
    "print(df)"
   ]
  },
  {
   "cell_type": "markdown",
   "id": "58f1bb73",
   "metadata": {},
   "source": [
    "### Indexing a df"
   ]
  },
  {
   "cell_type": "markdown",
   "id": "705e30e1",
   "metadata": {},
   "source": [
    "**INDEXED AS [COLUMN][ROW]! NOT THE MATRIX WAY.**"
   ]
  },
  {
   "cell_type": "code",
   "execution_count": 7,
   "id": "b40304eb",
   "metadata": {},
   "outputs": [
    {
     "name": "stdout",
     "output_type": "stream",
     "text": [
      "      zero  one   two\n",
      "ling   1.0    3   5.0\n",
      "yi     7.0    9  11.0\n",
      "er     2.0    4   6.0\n",
      "san    NaN   -1   2.2 \n",
      "-----------------------1\n",
      "ling    1.0\n",
      "yi      7.0\n",
      "er      2.0\n",
      "san     NaN\n",
      "Name: zero, dtype: float64\n",
      "2.0 \n",
      "-----------------------2\n",
      "    zero   two\n",
      "yi   7.0  11.0\n",
      "er   2.0   6.0 \n",
      "-----------------------3\n"
     ]
    }
   ],
   "source": [
    "import numpy as np\n",
    "array_like = [ [1, 3, 5], [7, 9, 11], [2, 4, 6], [np.nan, -1, 2.2] ]\n",
    "df = pd.DataFrame(array_like, index=['ling', 'yi', 'er', 'san'], columns=['zero', 'one', 'two'])\n",
    "print(df, '\\n-----------------------1')\n",
    "\n",
    "# COLUMN INDEXING\n",
    "\n",
    "print( df['zero'] ) # Returns a pandas.Series.\n",
    "# print(df.zero)    # Same thing. \n",
    "print( df['zero']['er'], '\\n-----------------------2')\n",
    "# print( df['ling']['two'] ) # Error!\n",
    "\n",
    "sub_df = df[ ['zero', 'two'] ][1:3] # Returns a DataFrame.\n",
    "print(sub_df, '\\n-----------------------3')\n",
    "sub_df = df[['zero']] # In case we want a DataFrame, not a Series."
   ]
  },
  {
   "cell_type": "code",
   "execution_count": null,
   "id": "5f3fd9cf",
   "metadata": {},
   "outputs": [],
   "source": [
    "# ROW INDEXING\n",
    "print(df, '\\n-----------------------1')\n",
    "# You can slice, of course:\n",
    "print(df[:1], '\\n-----------------------2')\n",
    "print(df[1:4], '\\n-----------------------3') # [low, high)\n",
    "\n",
    "# Purely integer-based indexing for selection by position:\n",
    "print( df.iloc[1:3, 1] ) # Row, col. Slicing works on both. THE RIGHT EDGE IS NOT INCLUDED!\n",
    "print('-----------------------4')\n",
    "# Label-based indexing for selection by position:\n",
    "print( df.loc['yi':'er', ['zero', 'two']] ) # THE RIGHT EDGE IS INCLUDED!\n",
    "# Doing smth like 1:3 here result in an error since 1 and 3 are not KEYS.\n",
    "print('-----------------------5')\n",
    "print( df.loc['yi']) # Retuns a row as a Series.\n"
   ]
  },
  {
   "cell_type": "markdown",
   "id": "b146661e",
   "metadata": {},
   "source": [
    "### Modifying a DataFrame & some ops"
   ]
  },
  {
   "cell_type": "code",
   "execution_count": null,
   "id": "d767b5b2",
   "metadata": {},
   "outputs": [],
   "source": [
    "import numpy as np\n",
    "array_like = [ [1, 3, 5], [7, 9, 11], [2, 4, 6], [np.nan, -1, 2.2] ]\n",
    "df = pd.DataFrame(array_like, index=['ling', 'yi', 'er', 'san'], columns=['zero', 'one', 'two'])\n",
    "print(df, '\\n-----------------------1')\n",
    "\n",
    "# Adding a col\n",
    "new_col = [100, 200, 300, 400]\n",
    "df['three'] = new_col\n",
    "print(df, '\\n-----------------------2')\n",
    "\n",
    "# Simple ops\n",
    "df['two'] *= 4\n",
    "df['zero'] = df['two'] * 2\n",
    "print(df, '\\n-----------------------3')"
   ]
  },
  {
   "cell_type": "markdown",
   "id": "ac3323cc",
   "metadata": {},
   "source": [
    "## An example"
   ]
  },
  {
   "cell_type": "markdown",
   "id": "45ead5d8",
   "metadata": {},
   "source": [
    "### Reading a csv"
   ]
  },
  {
   "cell_type": "code",
   "execution_count": 8,
   "id": "04807764",
   "metadata": {},
   "outputs": [
    {
     "data": {
      "text/html": [
       "<div>\n",
       "<style scoped>\n",
       "    .dataframe tbody tr th:only-of-type {\n",
       "        vertical-align: middle;\n",
       "    }\n",
       "\n",
       "    .dataframe tbody tr th {\n",
       "        vertical-align: top;\n",
       "    }\n",
       "\n",
       "    .dataframe thead th {\n",
       "        text-align: right;\n",
       "    }\n",
       "</style>\n",
       "<table border=\"1\" class=\"dataframe\">\n",
       "  <thead>\n",
       "    <tr style=\"text-align: right;\">\n",
       "      <th></th>\n",
       "      <th>Pclass</th>\n",
       "      <th>Name</th>\n",
       "      <th>Sex</th>\n",
       "      <th>Age</th>\n",
       "      <th>SibSp</th>\n",
       "      <th>Parch</th>\n",
       "      <th>Ticket</th>\n",
       "      <th>Fare</th>\n",
       "      <th>Cabin</th>\n",
       "      <th>Embarked</th>\n",
       "    </tr>\n",
       "    <tr>\n",
       "      <th>PassengerId</th>\n",
       "      <th></th>\n",
       "      <th></th>\n",
       "      <th></th>\n",
       "      <th></th>\n",
       "      <th></th>\n",
       "      <th></th>\n",
       "      <th></th>\n",
       "      <th></th>\n",
       "      <th></th>\n",
       "      <th></th>\n",
       "    </tr>\n",
       "  </thead>\n",
       "  <tbody>\n",
       "    <tr>\n",
       "      <th>889</th>\n",
       "      <td>3</td>\n",
       "      <td>Johnston, Miss. Catherine Helen \"Carrie\"</td>\n",
       "      <td>female</td>\n",
       "      <td>NaN</td>\n",
       "      <td>1</td>\n",
       "      <td>2</td>\n",
       "      <td>W./C. 6607</td>\n",
       "      <td>23.45</td>\n",
       "      <td>NaN</td>\n",
       "      <td>S</td>\n",
       "    </tr>\n",
       "    <tr>\n",
       "      <th>890</th>\n",
       "      <td>1</td>\n",
       "      <td>Behr, Mr. Karl Howell</td>\n",
       "      <td>male</td>\n",
       "      <td>26.0</td>\n",
       "      <td>0</td>\n",
       "      <td>0</td>\n",
       "      <td>111369</td>\n",
       "      <td>30.00</td>\n",
       "      <td>C148</td>\n",
       "      <td>C</td>\n",
       "    </tr>\n",
       "    <tr>\n",
       "      <th>891</th>\n",
       "      <td>3</td>\n",
       "      <td>Dooley, Mr. Patrick</td>\n",
       "      <td>male</td>\n",
       "      <td>32.0</td>\n",
       "      <td>0</td>\n",
       "      <td>0</td>\n",
       "      <td>370376</td>\n",
       "      <td>7.75</td>\n",
       "      <td>NaN</td>\n",
       "      <td>Q</td>\n",
       "    </tr>\n",
       "  </tbody>\n",
       "</table>\n",
       "</div>"
      ],
      "text/plain": [
       "             Pclass                                      Name     Sex   Age  \\\n",
       "PassengerId                                                                   \n",
       "889               3  Johnston, Miss. Catherine Helen \"Carrie\"  female   NaN   \n",
       "890               1                     Behr, Mr. Karl Howell    male  26.0   \n",
       "891               3                       Dooley, Mr. Patrick    male  32.0   \n",
       "\n",
       "             SibSp  Parch      Ticket   Fare Cabin Embarked  \n",
       "PassengerId                                                  \n",
       "889              1      2  W./C. 6607  23.45   NaN        S  \n",
       "890              0      0      111369  30.00  C148        C  \n",
       "891              0      0      370376   7.75   NaN        Q  "
      ]
     },
     "execution_count": 8,
     "metadata": {},
     "output_type": "execute_result"
    }
   ],
   "source": [
    "import pandas as pd\n",
    "# Reading a csv\n",
    "filename = 'titanic_data.csv'\n",
    "titanic_passengers = pd.read_csv(filename, index_col='PassengerId') # Otherwise indexing is gonna be automatic which is redundant here.\n",
    "\n",
    "# Displaying\n",
    "titanic_passengers.head(3) # Returns a DataFrame.\n",
    "titanic_passengers.tail(3) # NB: print() does not give pretty output."
   ]
  },
  {
   "cell_type": "markdown",
   "id": "524ca522",
   "metadata": {},
   "source": [
    "### Obtaining general info about the dataset"
   ]
  },
  {
   "cell_type": "code",
   "execution_count": 2,
   "id": "5f7d4ca5",
   "metadata": {},
   "outputs": [
    {
     "name": "stdout",
     "output_type": "stream",
     "text": [
      "Shape (rows, cols): (891, 10) \n",
      "----------------------------------\n",
      "<class 'pandas.core.frame.DataFrame'>\n",
      "Int64Index: 891 entries, 1 to 891\n",
      "Data columns (total 10 columns):\n",
      " #   Column    Non-Null Count  Dtype  \n",
      "---  ------    --------------  -----  \n",
      " 0   Pclass    891 non-null    int64  \n",
      " 1   Name      891 non-null    object \n",
      " 2   Sex       891 non-null    object \n",
      " 3   Age       714 non-null    float64\n",
      " 4   SibSp     891 non-null    int64  \n",
      " 5   Parch     891 non-null    int64  \n",
      " 6   Ticket    891 non-null    object \n",
      " 7   Fare      891 non-null    float64\n",
      " 8   Cabin     204 non-null    object \n",
      " 9   Embarked  889 non-null    object \n",
      "dtypes: float64(2), int64(3), object(5)\n",
      "memory usage: 76.6+ KB\n",
      "None \n",
      "----------------------------------\n",
      "           Pclass         Age       SibSp       Parch        Fare\n",
      "count  891.000000  714.000000  891.000000  891.000000  891.000000\n",
      "mean     2.308642   29.699118    0.523008    0.381594   32.204208\n",
      "std      0.836071   14.526497    1.102743    0.806057   49.693429\n",
      "min      1.000000    0.420000    0.000000    0.000000    0.000000\n",
      "25%      2.000000   20.125000    0.000000    0.000000    7.910400\n",
      "50%      3.000000   28.000000    0.000000    0.000000   14.454200\n",
      "75%      3.000000   38.000000    1.000000    0.000000   31.000000\n",
      "max      3.000000   80.000000    8.000000    6.000000  512.329200\n"
     ]
    }
   ],
   "source": [
    "print(f'Shape (rows, cols): {titanic_passengers.shape}', '\\n----------------------------------')\n",
    "print(titanic_passengers.info(), '\\n----------------------------------')\n",
    "print(titanic_passengers.describe())"
   ]
  },
  {
   "cell_type": "markdown",
   "id": "2b62685e",
   "metadata": {},
   "source": [
    "### Operations on columns, grouping"
   ]
  },
  {
   "cell_type": "code",
   "execution_count": 3,
   "id": "d96786e5",
   "metadata": {},
   "outputs": [
    {
     "name": "stdout",
     "output_type": "stream",
     "text": [
      "0.42 29.69911764705882 80.0\n",
      "------------------------1\n",
      "male      577\n",
      "female    314\n",
      "Name: Sex, dtype: int64\n",
      "------------------------2\n",
      "              Age     SibSp     Parch       Fare\n",
      "Pclass                                          \n",
      "1       38.233441  0.416667  0.356481  84.154687\n",
      "2       29.877630  0.402174  0.380435  20.662183\n",
      "3       25.140620  0.615071  0.393075  13.675550\n",
      "Pclass\n",
      "1    38.233441\n",
      "2    29.877630\n",
      "3    25.140620\n",
      "Name: Age, dtype: float64\n"
     ]
    },
    {
     "name": "stderr",
     "output_type": "stream",
     "text": [
      "/tmp/ipykernel_18802/4231093660.py:10: FutureWarning: The default value of numeric_only in DataFrameGroupBy.mean is deprecated. In a future version, numeric_only will default to False. Either specify numeric_only or select only columns which should be valid for the function.\n",
      "  print(gr.mean()) # Reutns a DataFrame.\n"
     ]
    }
   ],
   "source": [
    "# Remember that series support many numpy operations!\n",
    "print(titanic_passengers['Age'].min(), titanic_passengers['Age'].mean(), titanic_passengers['Age'].max())\n",
    "print('------------------------1')\n",
    "# Count how many times each unique value occurs in a column. \n",
    "# How many men and women were there?\n",
    "print(titanic_passengers['Sex'].value_counts()) # Returns a series, you can also call value_counts() on the df itself.\n",
    "print('------------------------2')\n",
    "# Grouping entries by some value. \n",
    "gr = titanic_passengers.groupby(['Pclass']) # Split the df into groups, you can do more than one.\n",
    "print(gr.mean()) # Reutns a DataFrame.\n",
    "print(gr['Age'].mean()) # Retuns a Series."
   ]
  },
  {
   "cell_type": "markdown",
   "id": "447c71d2",
   "metadata": {},
   "source": [
    "### Merging"
   ]
  },
  {
   "cell_type": "code",
   "execution_count": 3,
   "id": "d884c46c",
   "metadata": {},
   "outputs": [
    {
     "name": "stdout",
     "output_type": "stream",
     "text": [
      "   Survived\n",
      "0         0\n",
      "1         1 \n",
      "-------------1\n",
      "   Survived\n",
      "1         0\n",
      "2         1 \n",
      "-------------2\n"
     ]
    },
    {
     "ename": "NameError",
     "evalue": "name 'titanic_passengers' is not defined",
     "output_type": "error",
     "traceback": [
      "\u001b[0;31m---------------------------------------------------------------------------\u001b[0m",
      "\u001b[0;31mNameError\u001b[0m                                 Traceback (most recent call last)",
      "Cell \u001b[0;32mIn[3], line 13\u001b[0m\n\u001b[1;32m     11\u001b[0m titanic_survivors \u001b[39m=\u001b[39m titanic_survivors\u001b[39m.\u001b[39msample(frac\u001b[39m=\u001b[39m\u001b[39m1\u001b[39m) \u001b[39m# Return a sample df, frac=1 makes it return the whole df but mixed (no longer sorted).\u001b[39;00m\n\u001b[1;32m     12\u001b[0m \u001b[39m# Even if the indexes are not sorted (but match!) join() will work:\u001b[39;00m\n\u001b[0;32m---> 13\u001b[0m titanic_passengers \u001b[39m=\u001b[39m titanic_passengers\u001b[39m.\u001b[39mjoin(titanic_survivors) \u001b[39m# Restart the kernel to see it work.\u001b[39;00m\n\u001b[1;32m     14\u001b[0m titanic_passengers\u001b[39m.\u001b[39mhead(\u001b[39m5\u001b[39m)\n",
      "\u001b[0;31mNameError\u001b[0m: name 'titanic_passengers' is not defined"
     ]
    }
   ],
   "source": [
    "import pandas as pd\n",
    "import numpy as np\n",
    "titanic_survivors = pd.read_csv('titanic_surv.csv')\n",
    "print(titanic_survivors.head(2), '\\n-------------1')\n",
    "\n",
    "# Merging DataFrames, here we are merging by index.\n",
    "titanic_survivors.index = np.arange(1, len(titanic_survivors) + 1) # So Indexes match.\n",
    "print(titanic_survivors.head(2), '\\n-------------2')\n",
    "\n",
    "# Messing with the DataFrame.\n",
    "titanic_survivors = titanic_survivors.sample(frac=1) # Return a sample df, frac=1 makes it return the whole df but mixed (no longer sorted).\n",
    "# Even if the indexes are not sorted (but match!) join() will work:\n",
    "titanic_passengers = titanic_passengers.join(titanic_survivors) # Restart the kernel to see it work.\n",
    "titanic_passengers.head(5)"
   ]
  },
  {
   "cell_type": "code",
   "execution_count": 15,
   "id": "4f9b9cc0",
   "metadata": {},
   "outputs": [
    {
     "name": "stdout",
     "output_type": "stream",
     "text": [
      "342\n",
      "342\n"
     ]
    }
   ],
   "source": [
    "# How many people survived?\n",
    "print(titanic_passengers['Survived'].sum()) \n",
    "print(titanic_passengers['Survived'].value_counts()[1]) # NOT COUNT_VALUES!\n",
    "# ... there also was task 4. corr()"
   ]
  },
  {
   "attachments": {},
   "cell_type": "markdown",
   "id": "fd16c316",
   "metadata": {},
   "source": [
    "# Python"
   ]
  },
  {
   "attachments": {},
   "cell_type": "markdown",
   "id": "fddeea45",
   "metadata": {},
   "source": [
    "## Libs"
   ]
  },
  {
   "attachments": {},
   "cell_type": "markdown",
   "id": "f3b73e33",
   "metadata": {},
   "source": [
    "### Glob"
   ]
  },
  {
   "cell_type": "code",
   "execution_count": null,
   "id": "8914c691",
   "metadata": {},
   "outputs": [],
   "source": [
    "import glob\n",
    "!ls\n",
    "g = glob.glob('*.ipynb') # Return a list of paths matching a pathname pattern.\n",
    "print(g)\n",
    "#help(glob)"
   ]
  },
  {
   "attachments": {},
   "cell_type": "markdown",
   "id": "f6bc6d8a",
   "metadata": {},
   "source": [
    "### Collections"
   ]
  },
  {
   "cell_type": "code",
   "execution_count": null,
   "id": "06d4ebbe",
   "metadata": {},
   "outputs": [],
   "source": [
    "from collections import defaultdict\n",
    "\n",
    "d = defaultdict(float)\n",
    "print( d.get('key', 'NONE') ) # Return the second param if not found. None by default. \n",
    "print(d['key'])               # Init an element with key 'key' with the default value of float.\n",
    "d['just evoke']               # Regular dict breaks here.\n",
    "print(d.items())\n",
    "\n",
    "from collections import Counter \n",
    "\n",
    "counter = Counter() # == defaultdict(int)\n",
    "for word in dir(__builtin__):\n",
    "    for letter in word:\n",
    "        #counter[letter] += 1\n",
    "        counter.update(letter)\n",
    "print(counter)\n",
    "# help(Counter)"
   ]
  },
  {
   "attachments": {},
   "cell_type": "markdown",
   "id": "16ac2b86",
   "metadata": {},
   "source": [
    "## ipynb"
   ]
  },
  {
   "cell_type": "raw",
   "id": "59acccbd",
   "metadata": {},
   "source": [
    "Shift + Tab - display help"
   ]
  },
  {
   "cell_type": "code",
   "execution_count": null,
   "id": "3c92000d",
   "metadata": {},
   "outputs": [],
   "source": [
    "?str \n",
    "?np.median\n",
    "# this is just a tldr of help(str)\n",
    "np.co?"
   ]
  },
  {
   "cell_type": "code",
   "execution_count": null,
   "id": "b676d9bb",
   "metadata": {
    "scrolled": true
   },
   "outputs": [],
   "source": [
    "!ls /"
   ]
  },
  {
   "cell_type": "code",
   "execution_count": null,
   "id": "681377a3",
   "metadata": {},
   "outputs": [],
   "source": [
    "%%time\n",
    "arr = []\n",
    "n = 10**7\n",
    "for i in range(n):\n",
    "    arr.append(i*5)"
   ]
  },
  {
   "attachments": {},
   "cell_type": "markdown",
   "id": "83d92294",
   "metadata": {},
   "source": [
    "## Language features"
   ]
  },
  {
   "attachments": {},
   "cell_type": "markdown",
   "id": "ecff5089",
   "metadata": {},
   "source": [
    "### Map, reduce, filter"
   ]
  },
  {
   "cell_type": "code",
   "execution_count": 2,
   "id": "d18a0a6d",
   "metadata": {},
   "outputs": [
    {
     "name": "stdout",
     "output_type": "stream",
     "text": [
      "(1, 4, 9)   {3, 4}\n"
     ]
    }
   ],
   "source": [
    "## MAP - Map values from an iter to something else ##\n",
    "a = [1, 2, 3]\n",
    "b = [3, 2, 1]\n",
    "a_sq_it      = map(lambda x: x*x, a) \n",
    "a_b_cross_it = map(lambda n, m: n * m, a, b)\n",
    "print( tuple(a_sq_it), ' ', set(a_b_cross_it) ) # list\n",
    "# help(map)"
   ]
  },
  {
   "cell_type": "code",
   "execution_count": null,
   "id": "86791e0e",
   "metadata": {},
   "outputs": [],
   "source": [
    "## REDUCE - Apply a function of two arguments cumulatively to the items of a sequence\n",
    "##   or iterable, so as to reduce the iterable to a single value.\n",
    "from functools import reduce\n",
    "c = [1, 2, 3, 4, 5]\n",
    "c_cumsum = reduce(lambda x, y: x + y, c, -100)\n",
    "print(c_cumsum)\n",
    "# help(reduce)"
   ]
  },
  {
   "cell_type": "code",
   "execution_count": 4,
   "id": "9947a52e",
   "metadata": {},
   "outputs": [
    {
     "name": "stdout",
     "output_type": "stream",
     "text": [
      "('Wolf', 'Yield', 'Yeet', 'Extemporaneous', 'Basic')\n"
     ]
    }
   ],
   "source": [
    "## FILTER - Return an iterator yielding those items of iterable for which predicate(item) is true ##\n",
    "d = ['Hi', 'Oof', 'Wolf', 'Car', 'Yield', 'Yeet', 'Extemporaneous', 'Basic']\n",
    "len_it = filter(lambda s: len(s) > 3, d)\n",
    "print( tuple(len_it) )\n",
    "#help(filter)"
   ]
  },
  {
   "attachments": {},
   "cell_type": "markdown",
   "id": "64ca9389",
   "metadata": {},
   "source": [
    "### dict (set is ez)"
   ]
  },
  {
   "cell_type": "code",
   "execution_count": 4,
   "id": "1cfb40d6",
   "metadata": {},
   "outputs": [
    {
     "name": "stdout",
     "output_type": "stream",
     "text": [
      "dict_values([True, False, True, False, True])\n",
      "dict_keys([2, 3, 4, 5, 6])\n",
      "dict_items([(2, True), (3, False), (4, True), (5, False), (6, True)])\n"
     ]
    }
   ],
   "source": [
    "## DICT COMPREHENSION\n",
    "e = {x*x for x in range(2, 7)}     ## This is a SET\n",
    "e = {x*x: x for x in range(2, 7)} ## This is a DICT. keys are x*x, values are x\n",
    "e = {x: x % 2 == 0 for x in range(2, 7)}\n",
    "print(e.values(), e.keys(), e.items(), sep='\\n')\n",
    "# by default `for val in e` does iteration over KEYS!"
   ]
  },
  {
   "cell_type": "code",
   "execution_count": 2,
   "id": "ca42eda7",
   "metadata": {},
   "outputs": [
    {
     "name": "stdout",
     "output_type": "stream",
     "text": [
      "dict_items([('key', 'key'), ('value', 2)])\n",
      "key is present!\n"
     ]
    }
   ],
   "source": [
    "## BASIC SYNTAX\n",
    "d = dict(key='key', value=2) # KEY=VALUE all dynamically typed.\n",
    "print(d.items())\n",
    "if d.get('key') != None:     # d['key'] throws an exception here.\n",
    "    print('key is present!')\n",
    "else:\n",
    "    print ('no key;(')"
   ]
  },
  {
   "attachments": {},
   "cell_type": "markdown",
   "id": "58269256",
   "metadata": {},
   "source": [
    "### Getting help"
   ]
  },
  {
   "cell_type": "code",
   "execution_count": null,
   "id": "8255acb0",
   "metadata": {},
   "outputs": [],
   "source": [
    "# help(dict)"
   ]
  },
  {
   "attachments": {},
   "cell_type": "markdown",
   "id": "1ef59aa0",
   "metadata": {},
   "source": [
    "### Progress bar"
   ]
  },
  {
   "cell_type": "code",
   "execution_count": null,
   "id": "8167cc69",
   "metadata": {},
   "outputs": [],
   "source": [
    "from tqdm.notebook import trange, tqdm \n",
    "# There is the ususal tqdm as well which is best suited for command line.\n",
    "from time import sleep\n",
    "\n",
    "# Simple progress bar\n",
    "cnt = 0\n",
    "for i in tqdm(range(1000)):\n",
    "    sleep(0.001)\n",
    "    cnt += 1\n",
    "    \n",
    "# Nested progress bars\n",
    "for i in trange(10, desc='1st loop'): # trange(num) == tqdm(range(num))\n",
    "    for j in trange(100, desc='Another description', leave=False):\n",
    "        sleep(0.01)\n",
    "        \n",
    "# https://pypi.org/project/tqdm/\n",
    "# help(tqdm)"
   ]
  },
  {
   "attachments": {},
   "cell_type": "markdown",
   "id": "c0a9a9cf",
   "metadata": {},
   "source": [
    "### join"
   ]
  },
  {
   "cell_type": "code",
   "execution_count": null,
   "id": "434cc78f",
   "metadata": {},
   "outputs": [],
   "source": [
    "sep = '<--->'\n",
    "print(sep.join(['a', 'b', 'c']))\n",
    "\n",
    "## Example homework code:\n",
    "# def process(sentences):\n",
    "#    return [' '.join(filter( lambda word: word.isalpha(), sen.split(' ') )) for sen in sentences]"
   ]
  }
 ],
 "metadata": {
  "kernelspec": {
   "display_name": "Python 3 (ipykernel)",
   "language": "python",
   "name": "python3"
  },
  "language_info": {
   "codemirror_mode": {
    "name": "ipython",
    "version": 3
   },
   "file_extension": ".py",
   "mimetype": "text/x-python",
   "name": "python",
   "nbconvert_exporter": "python",
   "pygments_lexer": "ipython3",
   "version": "3.10.12"
  }
 },
 "nbformat": 4,
 "nbformat_minor": 5
}
