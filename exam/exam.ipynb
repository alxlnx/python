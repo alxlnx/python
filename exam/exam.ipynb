{
 "cells": [
  {
   "cell_type": "code",
   "execution_count": 7,
   "metadata": {},
   "outputs": [
    {
     "data": {
      "text/plain": [
       "['9', ' 1', ' 5', ' 9', ' 2', ' 6', ' 9']"
      ]
     },
     "execution_count": 7,
     "metadata": {},
     "output_type": "execute_result"
    }
   ],
   "source": [
    "import numpy as np\n",
    "\n",
    "s = input().split(' ')"
   ]
  },
  {
   "cell_type": "code",
   "execution_count": 12,
   "metadata": {},
   "outputs": [
    {
     "name": "stdout",
     "output_type": "stream",
     "text": [
      "3\n"
     ]
    }
   ],
   "source": [
    "s = [ int(x) for x in s]\n",
    "s = np.array(s)\n",
    "\n",
    "max = np.max(s)\n",
    "\n",
    "print(np.count_nonzero(s == max))"
   ]
  },
  {
   "cell_type": "code",
   "execution_count": 14,
   "metadata": {},
   "outputs": [],
   "source": [
    "N = int(input())"
   ]
  },
  {
   "cell_type": "code",
   "execution_count": 29,
   "metadata": {},
   "outputs": [
    {
     "data": {
      "text/plain": [
       "['Mars Rising; red:5, white:1, black:3',\n",
       " 'CROW;BLACK:12,WHITE:3',\n",
       " 'Yellow Submarine ; Blue:4, Yellow:4, White:1']"
      ]
     },
     "execution_count": 29,
     "metadata": {},
     "output_type": "execute_result"
    }
   ],
   "source": [
    "s = []\n",
    "for i in range(N):\n",
    "    s.append(input())\n",
    "s"
   ]
  },
  {
   "cell_type": "code",
   "execution_count": 60,
   "metadata": {},
   "outputs": [
    {
     "name": "stdout",
     "output_type": "stream",
     "text": [
      "black 15\n",
      "blue 4\n",
      "red 5\n",
      "white 5\n",
      "yellow 4\n"
     ]
    }
   ],
   "source": [
    "from collections import defaultdict\n",
    "d = defaultdict(int)\n",
    "\n",
    "for i in range(N):\n",
    "    l = s[i]\n",
    "    name = l.split(';')[0]\n",
    "    colors = l.split(';')[1]\n",
    "    colors = colors.split(',')\n",
    "    colors = [c.strip(' ') for c in colors]\n",
    "    colors = [c.split(':') for c in colors]\n",
    "    for pair in colors:\n",
    "        col = pair[0].lower()\n",
    "        num = int(pair[1])\n",
    "        d[col] += num\n",
    "\n",
    "d = dict(sorted(d.items()))\n",
    "for k, v in d.items():\n",
    "    print(k, v)"
   ]
  },
  {
   "cell_type": "code",
   "execution_count": 61,
   "metadata": {},
   "outputs": [],
   "source": [
    "N = int(input())\n"
   ]
  },
  {
   "cell_type": "code",
   "execution_count": 85,
   "metadata": {},
   "outputs": [
    {
     "name": "stdout",
     "output_type": "stream",
     "text": [
      "[0.0, 0.0, 0.0] [0.1, 100.0, 100.0]\n",
      "[0.1, 100.0, 100.0] [0.5, 2.0, 0.0]\n",
      "140.0142849854971\n",
      "[0.5, 2.0, 0.0] [1.0, 2.0, 0.5]\n",
      "140.5142849854971\n",
      "140.5142849854971\n"
     ]
    }
   ],
   "source": [
    "def check(a, b):\n",
    "    if np.sqrt( abs(a[1] - b[1])**2 + abs(a[2] - b[2])**2 ) / b[0] - a[0] > 330:\n",
    "       return False\n",
    "    else:\n",
    "        return True \n",
    "# lines = [input().split(' ') for i in range(N)]\n",
    "last_line = [float(num) for num in input().split(' ')]\n",
    "dist = 0\n",
    "for i in range(N-1):\n",
    "    line = [float(num) for num in input().split(' ')]\n",
    "    print(last_line, line)\n",
    "    print(check(last_line, line))\n",
    "        #dist += np.sqrt( abs(last_line[1] - line[1])**2 + abs(last_line[2] - line[2])**2 )\n",
    "        \n",
    "    last_line = line\n",
    "print(dist)"
   ]
  },
  {
   "cell_type": "code",
   "execution_count": 80,
   "metadata": {},
   "outputs": [
    {
     "name": "stdout",
     "output_type": "stream",
     "text": [
      "no\n"
     ]
    }
   ],
   "source": [
    "import numpy as np\n",
    "lines = [[ float(num) for num in line ] for line in lines]\n",
    "lines = np.array(lines)\n",
    "\n",
    "def check(a, b):\n",
    "    if np.sqrt( abs(a[1] - b[1])**2 + abs(a[2] - b[2])**2 ) / b[0] - a[0] > 330:\n",
    "        print('no')\n",
    "\n",
    "check([0.0, 0.0, 0.0], [0.1, 100.0, 100.0]) \n"
   ]
  }
 ],
 "metadata": {
  "kernelspec": {
   "display_name": "base",
   "language": "python",
   "name": "python3"
  },
  "language_info": {
   "codemirror_mode": {
    "name": "ipython",
    "version": 3
   },
   "file_extension": ".py",
   "mimetype": "text/x-python",
   "name": "python",
   "nbconvert_exporter": "python",
   "pygments_lexer": "ipython3",
   "version": "3.10.9"
  }
 },
 "nbformat": 4,
 "nbformat_minor": 2
}
